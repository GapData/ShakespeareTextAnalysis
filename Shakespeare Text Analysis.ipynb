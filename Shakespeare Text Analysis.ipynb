{
 "metadata": {
  "name": "",
  "signature": "sha256:aed11569b90dadbc23563ebbf612d28d45573b88db1aaa6a2c07b56ab5cdb832"
 },
 "nbformat": 3,
 "nbformat_minor": 0,
 "worksheets": [
  {
   "cells": [
    {
     "cell_type": "markdown",
     "metadata": {},
     "source": [
      "Shakespeare's plays are traditionally classified into Comedies and Tragedies. The goal of this document is to use Natural Language Processing to classify the plays into 2 groups and compare the results to the traditional classification."
     ]
    },
    {
     "cell_type": "heading",
     "level": 4,
     "metadata": {},
     "source": [
      "Required libraries"
     ]
    },
    {
     "cell_type": "code",
     "collapsed": false,
     "input": [
      "import nltk\n",
      "import math\n",
      "import re\n",
      "import lda\n",
      "import sklearn\n",
      "import my_kmeans\n",
      "import numpy as np\n",
      "import matplotlib.pyplot as plt\n",
      "import seaborn as sns\n",
      "import pandas as pd\n",
      "\n",
      "from nltk.corpus import stopwords\n",
      "from nltk.tokenize import RegexpTokenizer\n",
      "from sklearn.feature_extraction.text import CountVectorizer, TfidfTransformer\n",
      "from sklearn.cluster import KMeans\n",
      "from ggplot import *"
     ],
     "language": "python",
     "metadata": {},
     "outputs": [],
     "prompt_number": 91
    },
    {
     "cell_type": "code",
     "collapsed": false,
     "input": [
      "stopwords = nltk.corpus.stopwords.words('english')"
     ],
     "language": "python",
     "metadata": {},
     "outputs": [],
     "prompt_number": 92
    },
    {
     "cell_type": "heading",
     "level": 4,
     "metadata": {},
     "source": [
      "Input Data"
     ]
    },
    {
     "cell_type": "markdown",
     "metadata": {},
     "source": [
      "shakespeare.txt includes all Shakespeare's plays and poems. Each line of the file starts with the expression title@row_number:"
     ]
    },
    {
     "cell_type": "markdown",
     "metadata": {},
     "source": [
      ">hamlet@56053\tHAMLET\tWords, words, words.\n",
      ">\n",
      ">hamlet@56081\n",
      ">\n",
      ">hamlet@56082\tLORD POLONIUS\tWhat is the matter, my lord?\n",
      ">\n",
      ">hamlet@56125\n",
      ">\n",
      ">hamlet@56126\tHAMLET\tBetween who?\n",
      ">\n",
      ">hamlet@56146\n",
      ">\n",
      ">hamlet@56147\tLORD POLONIUS\tI mean, the matter that you read, my lord."
     ]
    },
    {
     "cell_type": "heading",
     "level": 3,
     "metadata": {},
     "source": [
      "Text normalization"
     ]
    },
    {
     "cell_type": "markdown",
     "metadata": {},
     "source": [
      "- find all the titles as a unique list of title@ expressions and delete the histories (for now) and the poems\n",
      "- split the text into a list of lines\n",
      "- for each play create an element in _collection_, delete title@row_number and store as plain text"
     ]
    },
    {
     "cell_type": "code",
     "collapsed": false,
     "input": [
      "collection = {} # dictionary of raw texts\n",
      "\n",
      "with open('../../Datastore/shakespeare.txt', 'r') as f:\n",
      "\traw = f.read()\n",
      "\ttitles = [t for t in set(re.findall(r'[a-z]+@{1}', raw))]\n",
      "\n",
      "\thistories = ['glossary@', 'various@', 'sonnets@', 'kinghenryvi@', 'kinghenryiv@', \n",
      "                 'venusandadonis@', 'rapeoflucrece@', 'loverscomplaint@', 'kingrichardiii@', \n",
      "                 'kingrichardii@', 'kingjohn@', 'kinghenryv@','kinghenryviii@']\n",
      "\ttitles = [title for title in titles if title not in histories]\n",
      "\n",
      "\tlines = raw.splitlines()\n",
      "\tfor t in titles:\n",
      "\t\tkey = t[:-1]\n",
      "\t\ttext = [re.sub(r'[a-z]+@{1}[0-9]+[ \\t\\n]+','', l) for l in lines if re.match(t+'[0-9]+', l)]\n",
      "\t\tcollection[key] = ' '.join(text)"
     ],
     "language": "python",
     "metadata": {},
     "outputs": [],
     "prompt_number": 93
    },
    {
     "cell_type": "markdown",
     "metadata": {},
     "source": [
      "- Initialize the tokenizer (disregards punctuation signs) and a stemmer (Porter algorithm)"
     ]
    },
    {
     "cell_type": "code",
     "collapsed": false,
     "input": [
      "tokenizer = RegexpTokenizer(r'\\w+')\n",
      "st = nltk.stem.PorterStemmer()"
     ],
     "language": "python",
     "metadata": {},
     "outputs": [],
     "prompt_number": 94
    },
    {
     "cell_type": "markdown",
     "metadata": {},
     "source": [
      "Add glossary of victorian english words"
     ]
    },
    {
     "cell_type": "code",
     "collapsed": false,
     "input": [
      "with open('glossary.txt', 'r') as f:\n",
      "\tglossary = f.read()\n",
      "\n",
      "glossary = tokenizer.tokenize(glossary)"
     ],
     "language": "python",
     "metadata": {},
     "outputs": [],
     "prompt_number": 95
    },
    {
     "cell_type": "code",
     "collapsed": false,
     "input": [
      "tokens = {}\n",
      "stemmed = {}\n",
      "documents = {} # dictionary of normalized texts\n",
      "\n",
      "for key in collection.keys():\n",
      "\tcollection[key] = re.sub(r'\\n?\\n[A-Z]*\\t|\\n|\\t', ' ', collection[key])\n",
      "\ttokens[key] = tokenizer.tokenize(collection[key]) # delete punctuation\n",
      "\tnames = [w.lower() for w in set(tokens[key]) if w.isupper()]\n",
      "\ttokens[key] = [w for w in tokens[key] if w.lower() not in names]\n",
      "\ttokens[key] = [w.lower() for w in tokens[key] if w.lower() not in stopwords + glossary]\n",
      "\tstemmed[key] = [st.stem(w.lower()) for w in tokens[key]]\n",
      "\tdocuments[key] = ' '.join(stemmed[key])    "
     ],
     "language": "python",
     "metadata": {},
     "outputs": [],
     "prompt_number": 96
    },
    {
     "cell_type": "markdown",
     "metadata": {},
     "source": [
      "**Feature Extraction/Vectorization**: given a Vocabulary (list of unique words in the corpus) each play is represented as an array of frequencies"
     ]
    },
    {
     "cell_type": "code",
     "collapsed": false,
     "input": [
      "vectorizer = CountVectorizer()"
     ],
     "language": "python",
     "metadata": {},
     "outputs": [],
     "prompt_number": 97
    },
    {
     "cell_type": "code",
     "collapsed": false,
     "input": [
      "tfidfTransf = TfidfTransformer()"
     ],
     "language": "python",
     "metadata": {},
     "outputs": [],
     "prompt_number": 98
    },
    {
     "cell_type": "markdown",
     "metadata": {},
     "source": [
      "CountVectorizer() requires as input a list of documents (raw text)"
     ]
    },
    {
     "cell_type": "code",
     "collapsed": false,
     "input": [
      "freq_matrix = vectorizer.fit_transform(list(documents.values())).toarray()\n",
      "freq_matrix.shape"
     ],
     "language": "python",
     "metadata": {},
     "outputs": [
      {
       "metadata": {},
       "output_type": "pyout",
       "prompt_number": 99,
       "text": [
        "(27, 11959)"
       ]
      }
     ],
     "prompt_number": 99
    },
    {
     "cell_type": "code",
     "collapsed": false,
     "input": [
      "tfidf_matrix = tfidfTransf.fit_transform(freq_matrix)\n",
      "tfidf_matrix.shape"
     ],
     "language": "python",
     "metadata": {},
     "outputs": [
      {
       "metadata": {},
       "output_type": "pyout",
       "prompt_number": 100,
       "text": [
        "(27, 11959)"
       ]
      }
     ],
     "prompt_number": 100
    },
    {
     "cell_type": "heading",
     "level": 3,
     "metadata": {},
     "source": [
      "Latent Dirichlet Allocation"
     ]
    },
    {
     "cell_type": "markdown",
     "metadata": {},
     "source": [
      "In natural language processing, latent Dirichlet allocation (LDA) is a generative model that allows sets of observations to be explained by unobserved groups that explain why some parts of the data are similar. For example, if observations are words collected into documents, it posits that each document is a mixture of a small number of topics and that each word's creation is attributable to one of the document's topics."
     ]
    },
    {
     "cell_type": "code",
     "collapsed": false,
     "input": [
      "titles = np.array(documents.keys())\n",
      "labels = np.array(['tragedy','comedy','comedy', 'tragedy','tragedy','tragedy','tragedy', \n",
      "                           'tragedy','comedy','comedy','comedy', 'comedy','tragedy','comedy', \n",
      "                           'tragedy', 'comedy', 'comedy','comedy', 'comedy', 'comedy','comedy', \n",
      "                           'comedy', 'tragedy', 'tragedy', 'comedy','comedy','comedy'])\n",
      "year = np.array([1591, 1604, 1601, 1606, 1599, 1606, 1605, 1599, 1610, 1596, 1594, 1609, \n",
      "                 1605, 1598, 1607, 1600, 1603, 1610, 1590, 1599, 1600, 1595, 1604, 1592, \n",
      "                 1594, 1589, 1607])\n"
     ],
     "language": "python",
     "metadata": {},
     "outputs": [],
     "prompt_number": 101
    },
    {
     "cell_type": "code",
     "collapsed": false,
     "input": [
      "lookup = []\n",
      "for index in xrange(len(titles)):\n",
      "    lookup.append( (titles[index], labels[index], year[index]))\n",
      "\n",
      "lookup = np.array(lookup)\n",
      "unique_words = vectorizer.get_feature_names()"
     ],
     "language": "python",
     "metadata": {},
     "outputs": [],
     "prompt_number": 102
    },
    {
     "cell_type": "markdown",
     "metadata": {},
     "source": [
      "Number of topics the dumb way: max likelihood"
     ]
    },
    {
     "cell_type": "code",
     "collapsed": false,
     "input": [
      "loglikelihoods = []\n",
      "for k in range(2, 28):\n",
      "    topic_model = lda.LDA(n_topics = k, n_iter = 500)\n",
      "    topic_model.fit(freq_matrix)\n",
      "    loglikelihoods.append(topic_model.loglikelihood())"
     ],
     "language": "python",
     "metadata": {},
     "outputs": [
      {
       "ename": "KeyboardInterrupt",
       "evalue": "",
       "output_type": "pyerr",
       "traceback": [
        "\u001b[0;31m---------------------------------------------------------------------------\u001b[0m\n\u001b[0;31mKeyboardInterrupt\u001b[0m                         Traceback (most recent call last)",
        "\u001b[0;32m<ipython-input-24-44d95d20e17c>\u001b[0m in \u001b[0;36m<module>\u001b[0;34m()\u001b[0m\n\u001b[1;32m      2\u001b[0m \u001b[0;32mfor\u001b[0m \u001b[0mk\u001b[0m \u001b[0;32min\u001b[0m \u001b[0mrange\u001b[0m\u001b[0;34m(\u001b[0m\u001b[0;36m2\u001b[0m\u001b[0;34m,\u001b[0m \u001b[0;36m28\u001b[0m\u001b[0;34m)\u001b[0m\u001b[0;34m:\u001b[0m\u001b[0;34m\u001b[0m\u001b[0m\n\u001b[1;32m      3\u001b[0m     \u001b[0mtopic_model\u001b[0m \u001b[0;34m=\u001b[0m \u001b[0mlda\u001b[0m\u001b[0;34m.\u001b[0m\u001b[0mLDA\u001b[0m\u001b[0;34m(\u001b[0m\u001b[0mn_topics\u001b[0m \u001b[0;34m=\u001b[0m \u001b[0mk\u001b[0m\u001b[0;34m,\u001b[0m \u001b[0mn_iter\u001b[0m \u001b[0;34m=\u001b[0m \u001b[0;36m500\u001b[0m\u001b[0;34m)\u001b[0m\u001b[0;34m\u001b[0m\u001b[0m\n\u001b[0;32m----> 4\u001b[0;31m     \u001b[0mtopic_model\u001b[0m\u001b[0;34m.\u001b[0m\u001b[0mfit\u001b[0m\u001b[0;34m(\u001b[0m\u001b[0mfreq_matrix\u001b[0m\u001b[0;34m)\u001b[0m\u001b[0;34m\u001b[0m\u001b[0m\n\u001b[0m\u001b[1;32m      5\u001b[0m     \u001b[0mloglikelihoods\u001b[0m\u001b[0;34m.\u001b[0m\u001b[0mappend\u001b[0m\u001b[0;34m(\u001b[0m\u001b[0mtopic_model\u001b[0m\u001b[0;34m.\u001b[0m\u001b[0mloglikelihood\u001b[0m\u001b[0;34m(\u001b[0m\u001b[0;34m)\u001b[0m\u001b[0;34m)\u001b[0m\u001b[0;34m\u001b[0m\u001b[0m\n",
        "\u001b[0;32m/usr/local/lib/python2.7/site-packages/lda/lda.pyc\u001b[0m in \u001b[0;36mfit\u001b[0;34m(self, X, y)\u001b[0m\n\u001b[1;32m    118\u001b[0m             \u001b[0mReturns\u001b[0m \u001b[0mthe\u001b[0m \u001b[0minstance\u001b[0m \u001b[0mitself\u001b[0m\u001b[0;34m.\u001b[0m\u001b[0;34m\u001b[0m\u001b[0m\n\u001b[1;32m    119\u001b[0m         \"\"\"\n\u001b[0;32m--> 120\u001b[0;31m         \u001b[0mself\u001b[0m\u001b[0;34m.\u001b[0m\u001b[0m_fit\u001b[0m\u001b[0;34m(\u001b[0m\u001b[0mX\u001b[0m\u001b[0;34m)\u001b[0m\u001b[0;34m\u001b[0m\u001b[0m\n\u001b[0m\u001b[1;32m    121\u001b[0m         \u001b[0;32mreturn\u001b[0m \u001b[0mself\u001b[0m\u001b[0;34m\u001b[0m\u001b[0m\n\u001b[1;32m    122\u001b[0m \u001b[0;34m\u001b[0m\u001b[0m\n",
        "\u001b[0;32m/usr/local/lib/python2.7/site-packages/lda/lda.pyc\u001b[0m in \u001b[0;36m_fit\u001b[0;34m(self, X)\u001b[0m\n\u001b[1;32m    212\u001b[0m         \u001b[0mrandom_state\u001b[0m \u001b[0;34m=\u001b[0m \u001b[0mlda\u001b[0m\u001b[0;34m.\u001b[0m\u001b[0mutils\u001b[0m\u001b[0;34m.\u001b[0m\u001b[0mcheck_random_state\u001b[0m\u001b[0;34m(\u001b[0m\u001b[0mself\u001b[0m\u001b[0;34m.\u001b[0m\u001b[0mrandom_state\u001b[0m\u001b[0;34m)\u001b[0m\u001b[0;34m\u001b[0m\u001b[0m\n\u001b[1;32m    213\u001b[0m         \u001b[0mrands\u001b[0m \u001b[0;34m=\u001b[0m \u001b[0mself\u001b[0m\u001b[0;34m.\u001b[0m\u001b[0m_rands\u001b[0m\u001b[0;34m.\u001b[0m\u001b[0mcopy\u001b[0m\u001b[0;34m(\u001b[0m\u001b[0;34m)\u001b[0m\u001b[0;34m\u001b[0m\u001b[0m\n\u001b[0;32m--> 214\u001b[0;31m         \u001b[0mself\u001b[0m\u001b[0;34m.\u001b[0m\u001b[0m_initialize\u001b[0m\u001b[0;34m(\u001b[0m\u001b[0mX\u001b[0m\u001b[0;34m)\u001b[0m\u001b[0;34m\u001b[0m\u001b[0m\n\u001b[0m\u001b[1;32m    215\u001b[0m         \u001b[0;32mfor\u001b[0m \u001b[0mit\u001b[0m \u001b[0;32min\u001b[0m \u001b[0mrange\u001b[0m\u001b[0;34m(\u001b[0m\u001b[0mself\u001b[0m\u001b[0;34m.\u001b[0m\u001b[0mn_iter\u001b[0m\u001b[0;34m)\u001b[0m\u001b[0;34m:\u001b[0m\u001b[0;34m\u001b[0m\u001b[0m\n\u001b[1;32m    216\u001b[0m             \u001b[0;31m# FIXME: using numpy.roll with a random shift might be faster\u001b[0m\u001b[0;34m\u001b[0m\u001b[0;34m\u001b[0m\u001b[0m\n",
        "\u001b[0;32m/usr/local/lib/python2.7/site-packages/lda/lda.pyc\u001b[0m in \u001b[0;36m_initialize\u001b[0;34m(self, X)\u001b[0m\n\u001b[1;32m    258\u001b[0m             \u001b[0mz_new\u001b[0m \u001b[0;34m=\u001b[0m \u001b[0mi\u001b[0m \u001b[0;34m%\u001b[0m \u001b[0mn_topics\u001b[0m\u001b[0;34m\u001b[0m\u001b[0m\n\u001b[1;32m    259\u001b[0m             \u001b[0mZS\u001b[0m\u001b[0;34m[\u001b[0m\u001b[0mi\u001b[0m\u001b[0;34m]\u001b[0m \u001b[0;34m=\u001b[0m \u001b[0mz_new\u001b[0m\u001b[0;34m\u001b[0m\u001b[0m\n\u001b[0;32m--> 260\u001b[0;31m             \u001b[0mndz_\u001b[0m\u001b[0;34m[\u001b[0m\u001b[0md\u001b[0m\u001b[0;34m,\u001b[0m \u001b[0mz_new\u001b[0m\u001b[0;34m]\u001b[0m \u001b[0;34m+=\u001b[0m \u001b[0;36m1\u001b[0m\u001b[0;34m\u001b[0m\u001b[0m\n\u001b[0m\u001b[1;32m    261\u001b[0m             \u001b[0mnzw_\u001b[0m\u001b[0;34m[\u001b[0m\u001b[0mz_new\u001b[0m\u001b[0;34m,\u001b[0m \u001b[0mw\u001b[0m\u001b[0;34m]\u001b[0m \u001b[0;34m+=\u001b[0m \u001b[0;36m1\u001b[0m\u001b[0;34m\u001b[0m\u001b[0m\n\u001b[1;32m    262\u001b[0m             \u001b[0mnz_\u001b[0m\u001b[0;34m[\u001b[0m\u001b[0mz_new\u001b[0m\u001b[0;34m]\u001b[0m \u001b[0;34m+=\u001b[0m \u001b[0;36m1\u001b[0m\u001b[0;34m\u001b[0m\u001b[0m\n",
        "\u001b[0;31mKeyboardInterrupt\u001b[0m: "
       ]
      }
     ],
     "prompt_number": 24
    },
    {
     "cell_type": "code",
     "collapsed": false,
     "input": [
      "%matplotlib inline\n",
      "plt.plot(range(2,28), loglikelihoods)\n",
      "plt.show()"
     ],
     "language": "python",
     "metadata": {},
     "outputs": [
      {
       "metadata": {},
       "output_type": "display_data",
       "png": "[encoded data removed]",
       "text": [
        "<matplotlib.figure.Figure at 0x10a6cda50>"
       ]
      }
     ],
     "prompt_number": 19
    },
    {
     "cell_type": "code",
     "collapsed": false,
     "input": [
      "num_of_topics = 12\n",
      "topic_model = lda.LDA(n_topics= num_of_topics, n_iter=2000)\n",
      "topic_model.fit(freq_matrix)"
     ],
     "language": "python",
     "metadata": {},
     "outputs": [
      {
       "metadata": {},
       "output_type": "pyout",
       "prompt_number": 103,
       "text": [
        "<lda.lda.LDA instance at 0x11381bcf8>"
       ]
      }
     ],
     "prompt_number": 103
    },
    {
     "cell_type": "code",
     "collapsed": false,
     "input": [
      "topic_model.loglikelihood()"
     ],
     "language": "python",
     "metadata": {},
     "outputs": [
      {
       "metadata": {},
       "output_type": "pyout",
       "prompt_number": 104,
       "text": [
        "-2218630.77727922"
       ]
      }
     ],
     "prompt_number": 104
    },
    {
     "cell_type": "code",
     "collapsed": false,
     "input": [
      "topic_word = topic_model.topic_word_\n",
      "\n",
      "n_top_words = 15\n",
      "\n",
      "for i, topic_dist in enumerate(topic_word):\n",
      "    topic_words = np.array(unique_words)[np.argsort(topic_dist)][:-n_top_words:-1]\n",
      "    print('Topic {}: {}'.format(i, ' '.join(topic_words)))"
     ],
     "language": "python",
     "metadata": {},
     "outputs": [
      {
       "output_type": "stream",
       "stream": "stdout",
       "text": [
        "Topic 0: sir make us life upon whose son daughter sinc attend dost time ear help\n",
        "Topic 1: enter good go yet come speak must love upon heart shall ti thing tell\n",
        "Topic 2: good lord know fool clown brother ladi ti gentleman think put natur great better\n",
        "Topic 3: love sweet fair ladi wit lord god eye man word therefor faith madam day\n",
        "Topic 4: would one like make man mine hear take cannot pray much true ever way\n",
        "Topic 5: rome citizen first roman nobl soldier second us senat peopl let friend war god\n",
        "Topic 6: shall well say let come see give know may father never think away hand\n",
        "Topic 7: lord first second servant honour god friend third men gold senat gentleman live widow\n",
        "Topic 8: master good go come husband tell wife enter host old mad pray kate hous\n",
        "Topic 9: lord son murder hand brother king sweet emperor deed witch arm troy tear honour\n",
        "Topic 10: king play shepherd queen eye monster moon lion sleep lie follow spirit sweet wall\n",
        "Topic 11: heaven soul night jew honest wife devil moor play gener light sing faith watch"
       ]
      },
      {
       "output_type": "stream",
       "stream": "stdout",
       "text": [
        "\n"
       ]
      }
     ],
     "prompt_number": 105
    },
    {
     "cell_type": "code",
     "collapsed": false,
     "input": [
      "%matplotlib inline\n",
      "\n",
      "doc_topic = topic_model.doc_topic_\n",
      "\n",
      "f, ax= plt.subplots(5, 1, figsize=(10, 8), sharex=True)\n",
      "for i, k in enumerate([3, 4, 11, 21, 24]):\n",
      "    ax[i].stem(doc_topic[k,:], linefmt='r-',\n",
      "               markerfmt='ro', basefmt='w-')\n",
      "    ax[i].set_xlim(-1, num_of_topics)\n",
      "    ax[i].set_ylim(0, 1)\n",
      "    ax[i].set_ylabel(\"Prob\")\n",
      "    ax[i].set_title(titles[k])\n",
      "\n",
      "ax[4].set_xlabel(\"Topic\")\n",
      "\n",
      "plt.tight_layout()\n",
      "plt.show()"
     ],
     "language": "python",
     "metadata": {},
     "outputs": [
      {
       "metadata": {},
       "output_type": "display_data",
       "png": "[encoded data removed]",
       "text": [
        "<matplotlib.figure.Figure at 0x11402d910>"
       ]
      }
     ],
     "prompt_number": 106
    },
    {
     "cell_type": "heading",
     "level": 3,
     "metadata": {},
     "source": [
      "K-Means"
     ]
    },
    {
     "cell_type": "code",
     "collapsed": false,
     "input": [
      "km_topics = KMeans(n_clusters = 2, init = 'random', random_state = 15)\n",
      "km_topics.fit(doc_topic)"
     ],
     "language": "python",
     "metadata": {},
     "outputs": [
      {
       "metadata": {},
       "output_type": "pyout",
       "prompt_number": 107,
       "text": [
        "KMeans(copy_x=True, init='random', max_iter=300, n_clusters=2, n_init=10,\n",
        "    n_jobs=1, precompute_distances=True, random_state=15, tol=0.0001,\n",
        "    verbose=0)"
       ]
      }
     ],
     "prompt_number": 107
    },
    {
     "cell_type": "code",
     "collapsed": false,
     "input": [
      "km_topics.labels_"
     ],
     "language": "python",
     "metadata": {},
     "outputs": [
      {
       "metadata": {},
       "output_type": "pyout",
       "prompt_number": 108,
       "text": [
        "array([0, 0, 1, 0, 0, 0, 0, 0, 0, 1, 1, 0, 0, 1, 0, 0, 0, 0, 1, 1, 1, 1, 0,\n",
        "       1, 1, 1, 0], dtype=int32)"
       ]
      }
     ],
     "prompt_number": 108
    },
    {
     "cell_type": "code",
     "collapsed": false,
     "input": [
      "lookup[ km_topics.labels_ == 0]"
     ],
     "language": "python",
     "metadata": {},
     "outputs": [
      {
       "metadata": {},
       "output_type": "pyout",
       "prompt_number": 109,
       "text": [
        "array([['titusandronicus', 'tragedy', '1591'],\n",
        "       ['allswellthatendswell', 'comedy', '1604'],\n",
        "       ['macbeth', 'tragedy', '1606'],\n",
        "       ['hamlet', 'tragedy', '1599'],\n",
        "       ['antonyandcleopatra', 'tragedy', '1606'],\n",
        "       ['kinglear', 'tragedy', '1605'],\n",
        "       ['juliuscaesar', 'tragedy', '1599'],\n",
        "       ['tempest', 'comedy', '1610'],\n",
        "       ['winterstale', 'comedy', '1609'],\n",
        "       ['timonofathens', 'tragedy', '1605'],\n",
        "       ['coriolanus', 'tragedy', '1607'],\n",
        "       ['troilusandcressida', 'comedy', '1600'],\n",
        "       ['measureforemeasure', 'comedy', '1603'],\n",
        "       ['cymbeline', 'comedy', '1610'],\n",
        "       ['othello', 'tragedy', '1604'],\n",
        "       ['periclesprinceoftyre', 'comedy', '1607']], \n",
        "      dtype='|S21')"
       ]
      }
     ],
     "prompt_number": 109
    },
    {
     "cell_type": "code",
     "collapsed": false,
     "input": [
      "lookup[km_topics.labels_ == 1]"
     ],
     "language": "python",
     "metadata": {},
     "outputs": [
      {
       "metadata": {},
       "output_type": "pyout",
       "prompt_number": 110,
       "text": [
        "array([['twelfthnight', 'comedy', '1601'],\n",
        "       ['merchantofvenice', 'comedy', '1596'],\n",
        "       ['loveslabourslost', 'comedy', '1594'],\n",
        "       ['muchadoaboutnothing', 'comedy', '1598'],\n",
        "       ['tamingoftheshrew', 'comedy', '1590'],\n",
        "       ['asyoulikeit', 'comedy', '1599'],\n",
        "       ['merrywivesofwindsor', 'comedy', '1600'],\n",
        "       ['midsummersnightsdream', 'comedy', '1595'],\n",
        "       ['romeoandjuliet', 'tragedy', '1592'],\n",
        "       ['comedyoferrors', 'comedy', '1594'],\n",
        "       ['twogentlemenofverona', 'comedy', '1589']], \n",
        "      dtype='|S21')"
       ]
      }
     ],
     "prompt_number": 110
    },
    {
     "cell_type": "code",
     "collapsed": false,
     "input": [
      "lookup_df = pd.DataFrame({'title':titles, 'label':labels, 'year':year, 'cluster':km_topics.labels_})\n",
      "groups = set(km_topics.labels_)"
     ],
     "language": "python",
     "metadata": {},
     "outputs": [],
     "prompt_number": 120
    },
    {
     "cell_type": "code",
     "collapsed": false,
     "input": [
      "%load_ext rmagic"
     ],
     "language": "python",
     "metadata": {},
     "outputs": [
      {
       "output_type": "stream",
       "stream": "stdout",
       "text": [
        "The rmagic extension is already loaded. To reload it, use:\n",
        "  %reload_ext rmagic\n"
       ]
      }
     ],
     "prompt_number": 118
    },
    {
     "cell_type": "code",
     "collapsed": false,
     "input": [
      "%Rpush lookup_df\n",
      "%R boxplot(lookup_df$year ~ lookup_df$cluster, col = c('darkorchid4', 'darkorange')); abline(h = 1603, lty = 2)"
     ],
     "language": "python",
     "metadata": {},
     "outputs": [
      {
       "metadata": {},
       "output_type": "display_data",
       "png": "[encoded data removed]"
      }
     ],
     "prompt_number": 128
    },
    {
     "cell_type": "code",
     "collapsed": false,
     "input": [
      "%R plot(x = titles$year, y = rep(1, nrow(titles)), pch = \"*\", cex = 3, col = ifelse(titles$cluster == 1, \"darkorange\", \"darkorchid4\"), xlab = \"Year\", ylab = \"\", yaxt = \"n\")"
     ],
     "language": "python",
     "metadata": {},
     "outputs": [
      {
       "metadata": {},
       "output_type": "display_data",
       "png": "[encoded data removed]"
      }
     ],
     "prompt_number": 129
    },
    {
     "cell_type": "code",
     "collapsed": false,
     "input": [
      "sns.set(style=\"ticks\")\n",
      "\n",
      "g = sns.factorplot(x = 'cluster', y = 'year', data = lookup_df, kind='box')\n",
      "g.despine()\n",
      "g.set_axis_labels('Cluster', 'Year')"
     ],
     "language": "python",
     "metadata": {},
     "outputs": [
      {
       "metadata": {},
       "output_type": "pyout",
       "prompt_number": 123,
       "text": [
        "<seaborn.axisgrid.FacetGrid at 0x11804e7d0>"
       ]
      },
      {
       "metadata": {},
       "output_type": "display_data",
       "png": "[encoded data removed]",
       "text": [
        "<matplotlib.figure.Figure at 0x11804ea10>"
       ]
      }
     ],
     "prompt_number": 123
    },
    {
     "cell_type": "heading",
     "level": 4,
     "metadata": {},
     "source": [
      "My own implementation of k-means"
     ]
    },
    {
     "cell_type": "code",
     "collapsed": false,
     "input": [
      "my_km_topics = my_kmeans.km(dat = doc_topic, k = 2, random_state = 8)"
     ],
     "language": "python",
     "metadata": {},
     "outputs": [
      {
       "output_type": "stream",
       "stream": "stdout",
       "text": [
        "iteration 1\n",
        "iteration 2\n"
       ]
      }
     ],
     "prompt_number": 130
    },
    {
     "cell_type": "code",
     "collapsed": false,
     "input": [
      "lookup[my_km_topics == 0]"
     ],
     "language": "python",
     "metadata": {},
     "outputs": [
      {
       "metadata": {},
       "output_type": "pyout",
       "prompt_number": 131,
       "text": [
        "array([['titusandronicus', 'tragedy', '1591'],\n",
        "       ['allswellthatendswell', 'comedy', '1604'],\n",
        "       ['macbeth', 'tragedy', '1606'],\n",
        "       ['hamlet', 'tragedy', '1599'],\n",
        "       ['antonyandcleopatra', 'tragedy', '1606'],\n",
        "       ['kinglear', 'tragedy', '1605'],\n",
        "       ['juliuscaesar', 'tragedy', '1599'],\n",
        "       ['tempest', 'comedy', '1610'],\n",
        "       ['winterstale', 'comedy', '1609'],\n",
        "       ['timonofathens', 'tragedy', '1605'],\n",
        "       ['coriolanus', 'tragedy', '1607'],\n",
        "       ['troilusandcressida', 'comedy', '1600'],\n",
        "       ['measureforemeasure', 'comedy', '1603'],\n",
        "       ['cymbeline', 'comedy', '1610'],\n",
        "       ['othello', 'tragedy', '1604'],\n",
        "       ['periclesprinceoftyre', 'comedy', '1607']], \n",
        "      dtype='|S21')"
       ]
      }
     ],
     "prompt_number": 131
    },
    {
     "cell_type": "code",
     "collapsed": false,
     "input": [
      "lookup[my_km_topics == 1]"
     ],
     "language": "python",
     "metadata": {},
     "outputs": [
      {
       "metadata": {},
       "output_type": "pyout",
       "prompt_number": 132,
       "text": [
        "array([['twelfthnight', 'comedy', '1601'],\n",
        "       ['merchantofvenice', 'comedy', '1596'],\n",
        "       ['loveslabourslost', 'comedy', '1594'],\n",
        "       ['muchadoaboutnothing', 'comedy', '1598'],\n",
        "       ['tamingoftheshrew', 'comedy', '1590'],\n",
        "       ['asyoulikeit', 'comedy', '1599'],\n",
        "       ['merrywivesofwindsor', 'comedy', '1600'],\n",
        "       ['midsummersnightsdream', 'comedy', '1595'],\n",
        "       ['romeoandjuliet', 'tragedy', '1592'],\n",
        "       ['comedyoferrors', 'comedy', '1594'],\n",
        "       ['twogentlemenofverona', 'comedy', '1589']], \n",
        "      dtype='|S21')"
       ]
      }
     ],
     "prompt_number": 132
    },
    {
     "cell_type": "markdown",
     "metadata": {},
     "source": [
      "Export input/results into csv (I'm going to do pretty pictures in R or d3)"
     ]
    },
    {
     "cell_type": "code",
     "collapsed": false,
     "input": [
      "np.savetxt('clusters.csv', km_topics.labels_, delimiter = ',')\n",
      "np.savetxt('vocabulary.csv', vectorizer.get_feature_names(), fmt = '%s', delimiter = ',')\n",
      "np.savetxt('freq_matrix.csv', freq_matrix, delimiter = ',')\n",
      "np.savetxt('topic_words.csv', topic_model.topic_word_, delimiter = ',')\n",
      "np.savetxt('doc_topic.csv', doc_topic, delimiter = ',')\n",
      "np.savetxt('titles.csv', lookup_df, delimiter=',', fmt = '%s')"
     ],
     "language": "python",
     "metadata": {},
     "outputs": [],
     "prompt_number": 34
    }
   ],
   "metadata": {}
  }
 ]
}