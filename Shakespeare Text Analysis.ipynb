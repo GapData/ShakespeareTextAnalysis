{
 "metadata": {
  "name": "",
  "signature": "sha256:22f69eb6b55c3655292507944581b7c1ce5a02bc2d928cd6c49bd8d71119c30c"
 },
 "nbformat": 3,
 "nbformat_minor": 0,
 "worksheets": [
  {
   "cells": [
    {
     "cell_type": "heading",
     "level": 4,
     "metadata": {},
     "source": [
      "Required libraries"
     ]
    },
    {
     "cell_type": "code",
     "collapsed": false,
     "input": [
      "import nltk\n",
      "import math\n",
      "import re\n",
      "import lda\n",
      "import sklearn\n",
      "import my_kmeans\n",
      "import my_spherical_km\n",
      "import numpy as np\n",
      "import matplotlib.pyplot as plt\n",
      "\n",
      "from nltk.corpus import stopwords\n",
      "from nltk.tokenize import RegexpTokenizer\n",
      "from sklearn.feature_extraction.text import CountVectorizer\n",
      "from sklearn.cluster import KMeans"
     ],
     "language": "python",
     "metadata": {},
     "outputs": [],
     "prompt_number": 1
    },
    {
     "cell_type": "code",
     "collapsed": false,
     "input": [
      "stopwords = nltk.corpus.stopwords.words('english')"
     ],
     "language": "python",
     "metadata": {},
     "outputs": [],
     "prompt_number": 2
    },
    {
     "cell_type": "heading",
     "level": 4,
     "metadata": {},
     "source": [
      "Input Data"
     ]
    },
    {
     "cell_type": "markdown",
     "metadata": {},
     "source": [
      "shakespeare.txt includes all Shakespeare's plays and poems. Each line of the file starts with the expression title@row_number:"
     ]
    },
    {
     "cell_type": "markdown",
     "metadata": {},
     "source": [
      ">hamlet@56053\tHAMLET\tWords, words, words.\n",
      ">\n",
      ">hamlet@56081\n",
      ">\n",
      ">hamlet@56082\tLORD POLONIUS\tWhat is the matter, my lord?\n",
      ">\n",
      ">hamlet@56125\n",
      ">\n",
      ">hamlet@56126\tHAMLET\tBetween who?\n",
      ">\n",
      ">hamlet@56146\n",
      ">\n",
      ">hamlet@56147\tLORD POLONIUS\tI mean, the matter that you read, my lord."
     ]
    },
    {
     "cell_type": "heading",
     "level": 3,
     "metadata": {},
     "source": [
      "Text normalization"
     ]
    },
    {
     "cell_type": "markdown",
     "metadata": {},
     "source": [
      "- find all the titles as a unique list of title@ expressions and delete the histories (for now) and the poems\n",
      "- split the text into a list of lines\n",
      "- for each play create an element in _collection_, delete title@row_number and store as plain text"
     ]
    },
    {
     "cell_type": "code",
     "collapsed": false,
     "input": [
      "collection = {} # dictionary of raw texts\n",
      "\n",
      "with open('../../Datastore/shakespeare.txt', 'r') as f:\n",
      "\traw = f.read()\n",
      "\ttitles = [t for t in set(re.findall(r'[a-z]+@{1}', raw))]\n",
      "\n",
      "\thistories = ['glossary@', 'various@', 'sonnets@', 'kinghenryvi@', 'kinghenryiv@', \n",
      "                 'venusandadonis@', 'rapeoflucrece@', 'loverscomplaint@', 'kingrichardiii@', \n",
      "                 'kingrichardii@', 'kingjohn@', 'kinghenryv@','kinghenryviii@']\n",
      "\ttitles = [title for title in titles if title not in histories]\n",
      "\n",
      "\tlines = raw.splitlines()\n",
      "\tfor t in titles:\n",
      "\t\tkey = t[:-1]\n",
      "\t\ttext = [re.sub(r'[a-z]+@{1}[0-9]+[ \\t\\n]+','', l) for l in lines if re.match(t+'[0-9]+', l)]\n",
      "\t\tcollection[key] = ' '.join(text)"
     ],
     "language": "python",
     "metadata": {},
     "outputs": [],
     "prompt_number": 3
    },
    {
     "cell_type": "markdown",
     "metadata": {},
     "source": [
      "- Initialize the tokenizer (disregards punctuation signs) and a stemmer (Porter algorithm)"
     ]
    },
    {
     "cell_type": "code",
     "collapsed": false,
     "input": [
      "tokenizer = RegexpTokenizer(r'\\w+')\n",
      "st = nltk.stem.PorterStemmer()"
     ],
     "language": "python",
     "metadata": {},
     "outputs": [],
     "prompt_number": 4
    },
    {
     "cell_type": "markdown",
     "metadata": {},
     "source": [
      "Add glossary of victorian english words"
     ]
    },
    {
     "cell_type": "code",
     "collapsed": false,
     "input": [
      "with open('glossary.txt', 'r') as f:\n",
      "\tglossary = f.read()\n",
      "\n",
      "glossary = tokenizer.tokenize(glossary)"
     ],
     "language": "python",
     "metadata": {},
     "outputs": [],
     "prompt_number": 5
    },
    {
     "cell_type": "code",
     "collapsed": false,
     "input": [
      "tokens = {}\n",
      "stemmed = {}\n",
      "documents = {} # dictionary of normalized texts\n",
      "\n",
      "for key in collection.keys():\n",
      "\tcollection[key] = re.sub(r'\\n?\\n[A-Z]*\\t|\\n|\\t', ' ', collection[key])\n",
      "\ttokens[key] = tokenizer.tokenize(collection[key]) # delete punctuation\n",
      "\tnames = [w.lower() for w in set(tokens[key]) if w.isupper()]\n",
      "\ttokens[key] = [w for w in tokens[key] if w.lower() not in names]\n",
      "\ttokens[key] = [w.lower() for w in tokens[key] if w.lower() not in stopwords + glossary]\n",
      "\tstemmed[key] = [st.stem(w.lower()) for w in tokens[key]]\n",
      "\tdocuments[key] = ' '.join(stemmed[key])    "
     ],
     "language": "python",
     "metadata": {},
     "outputs": [],
     "prompt_number": 6
    },
    {
     "cell_type": "markdown",
     "metadata": {},
     "source": [
      "**Feature Extraction/Vectorization**: given a Vocabulary (list of unique words in the corpus) each play is represented as an array of frequencies"
     ]
    },
    {
     "cell_type": "code",
     "collapsed": false,
     "input": [
      "vectorizer = CountVectorizer()"
     ],
     "language": "python",
     "metadata": {},
     "outputs": [],
     "prompt_number": 7
    },
    {
     "cell_type": "markdown",
     "metadata": {},
     "source": [
      "CountVectorizer() requires as input a list of documents (raw text)"
     ]
    },
    {
     "cell_type": "code",
     "collapsed": false,
     "input": [
      "freq_matrix = vectorizer.fit_transform(list(documents.values())).toarray()\n",
      "freq_matrix.shape"
     ],
     "language": "python",
     "metadata": {},
     "outputs": [
      {
       "metadata": {},
       "output_type": "pyout",
       "prompt_number": 8,
       "text": [
        "(27, 11959)"
       ]
      }
     ],
     "prompt_number": 8
    },
    {
     "cell_type": "heading",
     "level": 3,
     "metadata": {},
     "source": [
      "Latent Dirichlet Allocation"
     ]
    },
    {
     "cell_type": "code",
     "collapsed": false,
     "input": [
      "titles = np.array(documents.keys())\n",
      "labels = np.array(['tragedy','comedy','comedy', \n",
      "                           'tragedy','tragedy','tragedy','tragedy', \n",
      "                           'tragedy','comedy','comedy','comedy', \n",
      "                           'comedy','tragedy','comedy','tragedy', \n",
      "                           'comedy', 'comedy','comedy', \n",
      "                           'comedy', 'comedy','comedy', \n",
      "                           'comedy', 'tragedy', 'tragedy',\n",
      "                           'comedy','comedy','comedy'])\n",
      "lookup = []\n",
      "for index in xrange(len(titles)):\n",
      "    lookup.append( (titles[index], labels[index]))\n",
      "\n",
      "lookup = np.array(lookup)\n",
      "    \n",
      "unique_words = vectorizer.get_feature_names()\n",
      "num_of_topics = 10"
     ],
     "language": "python",
     "metadata": {},
     "outputs": [],
     "prompt_number": 9
    },
    {
     "cell_type": "code",
     "collapsed": false,
     "input": [
      "topic_model = lda.LDA(n_topics= num_of_topics, n_iter=500)\n",
      "topic_model.fit(freq_matrix)\n",
      "\n",
      "topic_word = topic_model.topic_word_\n",
      "\n",
      "n_top_words = 10\n",
      "\n",
      "for i, topic_dist in enumerate(topic_word):\n",
      "    topic_words = np.array(unique_words)[np.argsort(topic_dist)][:-n_top_words:-1]\n",
      "    print('Topic {}: {}'.format(i, ' '.join(topic_words)))"
     ],
     "language": "python",
     "metadata": {},
     "outputs": [
      {
       "output_type": "stream",
       "stream": "stdout",
       "text": [
        "Topic 0: ti yet heaven come look speak night done die\n",
        "Topic 1: eye dead son hand tear play day like earth\n",
        "Topic 2: make one say would mine must see take upon\n",
        "Topic 3: shall rome us nobl first let citizen enter soldier\n",
        "Topic 4: sir let good know shall us father give like\n",
        "Topic 5: sweet ladi fair wit lord shall eye great let\n",
        "Topic 6: day hous friend come go men stay enter young\n",
        "Topic 7: lord first honour second servant fortun men ti thank\n",
        "Topic 8: master shall come good go well husband host let\n",
        "Topic 9: love man come well say shall heart good may\n"
       ]
      }
     ],
     "prompt_number": 10
    },
    {
     "cell_type": "code",
     "collapsed": false,
     "input": [
      "%matplotlib inline\n",
      "\n",
      "doc_topic = topic_model.doc_topic_\n",
      "\n",
      "f, ax= plt.subplots(5, 1, figsize=(10, 8), sharex=True)\n",
      "for i, k in enumerate([3, 4, 11, 21, 24]):\n",
      "    ax[i].stem(doc_topic[k,:], linefmt='r-',\n",
      "               markerfmt='ro', basefmt='w-')\n",
      "    ax[i].set_xlim(-1, num_of_topics)\n",
      "    ax[i].set_ylim(0, 1)\n",
      "    ax[i].set_ylabel(\"Prob\")\n",
      "    ax[i].set_title(titles[k])\n",
      "\n",
      "ax[4].set_xlabel(\"Topic\")\n",
      "\n",
      "plt.tight_layout()\n",
      "plt.show()"
     ],
     "language": "python",
     "metadata": {},
     "outputs": [
      {
       "metadata": {},
       "output_type": "display_data",
       "png": "[encoded data removed]",
       "text": [
        "<matplotlib.figure.Figure at 0x108222090>"
       ]
      }
     ],
     "prompt_number": 11
    },
    {
     "cell_type": "heading",
     "level": 3,
     "metadata": {},
     "source": [
      "K-Means"
     ]
    },
    {
     "cell_type": "code",
     "collapsed": false,
     "input": [
      "km_topics = KMeans(n_clusters = 2, init = 'random', random_state = 1254)\n",
      "km_topics.fit(doc_topic)"
     ],
     "language": "python",
     "metadata": {},
     "outputs": [
      {
       "metadata": {},
       "output_type": "pyout",
       "prompt_number": 12,
       "text": [
        "KMeans(copy_x=True, init='random', max_iter=300, n_clusters=2, n_init=10,\n",
        "    n_jobs=1, precompute_distances=True, random_state=1254, tol=0.0001,\n",
        "    verbose=0)"
       ]
      }
     ],
     "prompt_number": 12
    },
    {
     "cell_type": "code",
     "collapsed": false,
     "input": [
      "km_topics.labels_"
     ],
     "language": "python",
     "metadata": {},
     "outputs": [
      {
       "metadata": {},
       "output_type": "pyout",
       "prompt_number": 13,
       "text": [
        "array([0, 0, 1, 0, 0, 0, 0, 0, 0, 1, 1, 0, 0, 1, 0, 1, 0, 0, 1, 1, 1, 1, 0,\n",
        "       1, 1, 1, 0], dtype=int32)"
       ]
      }
     ],
     "prompt_number": 13
    },
    {
     "cell_type": "code",
     "collapsed": false,
     "input": [
      "lookup[ km_topics.labels_ == 0]"
     ],
     "language": "python",
     "metadata": {},
     "outputs": [
      {
       "metadata": {},
       "output_type": "pyout",
       "prompt_number": 14,
       "text": [
        "array([['titusandronicus', 'tragedy'],\n",
        "       ['allswellthatendswell', 'comedy'],\n",
        "       ['macbeth', 'tragedy'],\n",
        "       ['hamlet', 'tragedy'],\n",
        "       ['antonyandcleopatra', 'tragedy'],\n",
        "       ['kinglear', 'tragedy'],\n",
        "       ['juliuscaesar', 'tragedy'],\n",
        "       ['tempest', 'comedy'],\n",
        "       ['winterstale', 'comedy'],\n",
        "       ['timonofathens', 'tragedy'],\n",
        "       ['coriolanus', 'tragedy'],\n",
        "       ['measureforemeasure', 'comedy'],\n",
        "       ['cymbeline', 'comedy'],\n",
        "       ['othello', 'tragedy'],\n",
        "       ['periclesprinceoftyre', 'comedy']], \n",
        "      dtype='|S21')"
       ]
      }
     ],
     "prompt_number": 14
    },
    {
     "cell_type": "code",
     "collapsed": false,
     "input": [
      "lookup[km_topics.labels_ == 1]"
     ],
     "language": "python",
     "metadata": {},
     "outputs": [
      {
       "metadata": {},
       "output_type": "pyout",
       "prompt_number": 15,
       "text": [
        "array([['twelfthnight', 'comedy'],\n",
        "       ['merchantofvenice', 'comedy'],\n",
        "       ['loveslabourslost', 'comedy'],\n",
        "       ['muchadoaboutnothing', 'comedy'],\n",
        "       ['troilusandcressida', 'comedy'],\n",
        "       ['tamingoftheshrew', 'comedy'],\n",
        "       ['asyoulikeit', 'comedy'],\n",
        "       ['merrywivesofwindsor', 'comedy'],\n",
        "       ['midsummersnightsdream', 'comedy'],\n",
        "       ['romeoandjuliet', 'tragedy'],\n",
        "       ['comedyoferrors', 'comedy'],\n",
        "       ['twogentlemenofverona', 'comedy']], \n",
        "      dtype='|S21')"
       ]
      }
     ],
     "prompt_number": 15
    },
    {
     "cell_type": "code",
     "collapsed": false,
     "input": [
      "my_km_topics = my_kmeans.km(doc_topic, 2)"
     ],
     "language": "python",
     "metadata": {},
     "outputs": [
      {
       "output_type": "stream",
       "stream": "stdout",
       "text": [
        "iteration 1\n",
        "iteration 2\n",
        "iteration 3\n",
        "iteration 4\n",
        "iteration 5\n"
       ]
      }
     ],
     "prompt_number": 25
    },
    {
     "cell_type": "code",
     "collapsed": false,
     "input": [
      "lookup[my_km_topics == 0]"
     ],
     "language": "python",
     "metadata": {},
     "outputs": [
      {
       "metadata": {},
       "output_type": "pyout",
       "prompt_number": 26,
       "text": [
        "array([['twelfthnight', 'comedy'],\n",
        "       ['merchantofvenice', 'comedy'],\n",
        "       ['loveslabourslost', 'comedy'],\n",
        "       ['muchadoaboutnothing', 'comedy'],\n",
        "       ['troilusandcressida', 'comedy'],\n",
        "       ['tamingoftheshrew', 'comedy'],\n",
        "       ['asyoulikeit', 'comedy'],\n",
        "       ['merrywivesofwindsor', 'comedy'],\n",
        "       ['midsummersnightsdream', 'comedy'],\n",
        "       ['romeoandjuliet', 'tragedy'],\n",
        "       ['comedyoferrors', 'comedy'],\n",
        "       ['twogentlemenofverona', 'comedy']], \n",
        "      dtype='|S21')"
       ]
      }
     ],
     "prompt_number": 26
    },
    {
     "cell_type": "code",
     "collapsed": false,
     "input": [
      "lookup[my_km_topics == 1]"
     ],
     "language": "python",
     "metadata": {},
     "outputs": [
      {
       "metadata": {},
       "output_type": "pyout",
       "prompt_number": 27,
       "text": [
        "array([['titusandronicus', 'tragedy'],\n",
        "       ['allswellthatendswell', 'comedy'],\n",
        "       ['macbeth', 'tragedy'],\n",
        "       ['hamlet', 'tragedy'],\n",
        "       ['antonyandcleopatra', 'tragedy'],\n",
        "       ['kinglear', 'tragedy'],\n",
        "       ['juliuscaesar', 'tragedy'],\n",
        "       ['tempest', 'comedy'],\n",
        "       ['winterstale', 'comedy'],\n",
        "       ['timonofathens', 'tragedy'],\n",
        "       ['coriolanus', 'tragedy'],\n",
        "       ['measureforemeasure', 'comedy'],\n",
        "       ['cymbeline', 'comedy'],\n",
        "       ['othello', 'tragedy'],\n",
        "       ['periclesprinceoftyre', 'comedy']], \n",
        "      dtype='|S21')"
       ]
      }
     ],
     "prompt_number": 27
    },
    {
     "cell_type": "code",
     "collapsed": false,
     "input": [],
     "language": "python",
     "metadata": {},
     "outputs": []
    }
   ],
   "metadata": {}
  }
 ]
}