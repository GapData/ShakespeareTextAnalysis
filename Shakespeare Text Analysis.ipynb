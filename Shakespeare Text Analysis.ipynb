{
 "cells": [
  {
   "cell_type": "markdown",
   "metadata": {},
   "source": [
    "Shakespeare's plays are traditionally classified into Comedies and Tragedies. The goal of this document is to use Natural Language Processing to classify the plays into 2 groups and compare the results to the traditional classification."
   ]
  },
  {
   "cell_type": "markdown",
   "metadata": {},
   "source": [
    "#### Required libraries"
   ]
  },
  {
   "cell_type": "code",
   "execution_count": 1,
   "metadata": {
    "collapsed": false
   },
   "outputs": [],
   "source": [
    "import nltk\n",
    "import math\n",
    "import re\n",
    "import lda\n",
    "import sklearn\n",
    "import my_kmeans\n",
    "import numpy as np\n",
    "import matplotlib.pyplot as plt\n",
    "import seaborn as sns\n",
    "import pandas as pd\n",
    "\n",
    "from nltk.corpus import stopwords\n",
    "from nltk.tokenize import RegexpTokenizer\n",
    "from sklearn.feature_extraction.text import CountVectorizer, TfidfTransformer\n",
    "from sklearn.cluster import KMeans\n",
    "from ggplot import *"
   ]
  },
  {
   "cell_type": "code",
   "execution_count": 2,
   "metadata": {
    "collapsed": false
   },
   "outputs": [],
   "source": [
    "stopwords = nltk.corpus.stopwords.words('english')"
   ]
  },
  {
   "cell_type": "markdown",
   "metadata": {},
   "source": [
    "#### Input Data"
   ]
  },
  {
   "cell_type": "markdown",
   "metadata": {},
   "source": [
    "shakespeare.txt includes all Shakespeare's plays and poems. Each line of the file starts with the expression title@row_number:"
   ]
  },
  {
   "cell_type": "markdown",
   "metadata": {},
   "source": [
    ">hamlet@56053\tHAMLET\tWords, words, words.\n",
    ">\n",
    ">hamlet@56081\n",
    ">\n",
    ">hamlet@56082\tLORD POLONIUS\tWhat is the matter, my lord?\n",
    ">\n",
    ">hamlet@56125\n",
    ">\n",
    ">hamlet@56126\tHAMLET\tBetween who?\n",
    ">\n",
    ">hamlet@56146\n",
    ">\n",
    ">hamlet@56147\tLORD POLONIUS\tI mean, the matter that you read, my lord."
   ]
  },
  {
   "cell_type": "markdown",
   "metadata": {},
   "source": [
    "### Text normalization"
   ]
  },
  {
   "cell_type": "markdown",
   "metadata": {},
   "source": [
    "- find all the titles as a unique list of title@ expressions and delete the histories (for now) and the poems\n",
    "- split the text into a list of lines\n",
    "- for each play create an element in _collection_, delete title@row_number and store as plain text"
   ]
  },
  {
   "cell_type": "code",
   "execution_count": 3,
   "metadata": {
    "collapsed": false
   },
   "outputs": [],
   "source": [
    "collection = {} # dictionary of raw texts\n",
    "\n",
    "with open('../../Datastore/shakespeare.txt', 'r') as f:\n",
    "\traw = f.read()\n",
    "\ttitles = [t for t in set(re.findall(r'[a-z]+@{1}', raw))]\n",
    "\n",
    "\thistories = ['glossary@', 'various@', 'sonnets@', 'kinghenryvi@', 'kinghenryiv@', \n",
    "                 'venusandadonis@', 'rapeoflucrece@', 'loverscomplaint@', 'kingrichardiii@', \n",
    "                 'kingrichardii@', 'kingjohn@', 'kinghenryv@','kinghenryviii@']\n",
    "\ttitles = [title for title in titles if title not in histories]\n",
    "\n",
    "\tlines = raw.splitlines()\n",
    "\tfor t in titles:\n",
    "\t\tkey = t[:-1]\n",
    "\t\ttext = [re.sub(r'[a-z]+@{1}[0-9]+[ \\t\\n]+','', l) for l in lines if re.match(t+'[0-9]+', l)]\n",
    "\t\tcollection[key] = ' '.join(text)"
   ]
  },
  {
   "cell_type": "markdown",
   "metadata": {},
   "source": [
    "- Initialize the tokenizer (disregards punctuation signs) and a stemmer (Porter algorithm)"
   ]
  },
  {
   "cell_type": "code",
   "execution_count": 4,
   "metadata": {
    "collapsed": false
   },
   "outputs": [],
   "source": [
    "tokenizer = RegexpTokenizer(r'\\w+')\n",
    "st = nltk.stem.PorterStemmer()"
   ]
  },
  {
   "cell_type": "markdown",
   "metadata": {},
   "source": [
    "Add glossary of victorian english words"
   ]
  },
  {
   "cell_type": "code",
   "execution_count": 5,
   "metadata": {
    "collapsed": false
   },
   "outputs": [],
   "source": [
    "with open('glossary.txt', 'r') as f:\n",
    "\tglossary = f.read()\n",
    "\n",
    "glossary = tokenizer.tokenize(glossary)"
   ]
  },
  {
   "cell_type": "code",
   "execution_count": 6,
   "metadata": {
    "collapsed": false
   },
   "outputs": [],
   "source": [
    "tokens = {}\n",
    "stemmed = {}\n",
    "documents = {} # dictionary of normalized texts\n",
    "\n",
    "for key in collection.keys():\n",
    "\tcollection[key] = re.sub(r'\\n?\\n[A-Z]*\\t|\\n|\\t', ' ', collection[key])\n",
    "\ttokens[key] = tokenizer.tokenize(collection[key]) # delete punctuation\n",
    "\tnames = [w.lower() for w in set(tokens[key]) if w.isupper()]\n",
    "\ttokens[key] = [w for w in tokens[key] if w.lower() not in names]\n",
    "\ttokens[key] = [w.lower() for w in tokens[key] if w.lower() not in stopwords + glossary]\n",
    "\tstemmed[key] = [st.stem(w.lower()) for w in tokens[key]]\n",
    "\tdocuments[key] = ' '.join(stemmed[key])    "
   ]
  },
  {
   "cell_type": "markdown",
   "metadata": {},
   "source": [
    "**Feature Extraction/Vectorization**: given a Vocabulary (list of unique words in the corpus) each play is represented as an array of frequencies"
   ]
  },
  {
   "cell_type": "code",
   "execution_count": 7,
   "metadata": {
    "collapsed": false
   },
   "outputs": [],
   "source": [
    "vectorizer = CountVectorizer()"
   ]
  },
  {
   "cell_type": "code",
   "execution_count": 8,
   "metadata": {
    "collapsed": false
   },
   "outputs": [],
   "source": [
    "tfidfTransf = TfidfTransformer()"
   ]
  },
  {
   "cell_type": "markdown",
   "metadata": {},
   "source": [
    "CountVectorizer() requires as input a list of documents (raw text)"
   ]
  },
  {
   "cell_type": "code",
   "execution_count": 9,
   "metadata": {
    "collapsed": false
   },
   "outputs": [
    {
     "data": {
      "text/plain": [
       "(27, 11959)"
      ]
     },
     "execution_count": 9,
     "metadata": {},
     "output_type": "execute_result"
    }
   ],
   "source": [
    "freq_matrix = vectorizer.fit_transform(list(documents.values())).toarray()\n",
    "freq_matrix.shape"
   ]
  },
  {
   "cell_type": "code",
   "execution_count": 10,
   "metadata": {
    "collapsed": false
   },
   "outputs": [
    {
     "data": {
      "text/plain": [
       "(27, 11959)"
      ]
     },
     "execution_count": 10,
     "metadata": {},
     "output_type": "execute_result"
    }
   ],
   "source": [
    "tfidf_matrix = tfidfTransf.fit_transform(freq_matrix)\n",
    "tfidf_matrix.shape"
   ]
  },
  {
   "cell_type": "markdown",
   "metadata": {},
   "source": [
    "### Latent Dirichlet Allocation"
   ]
  },
  {
   "cell_type": "markdown",
   "metadata": {},
   "source": [
    "In natural language processing, latent Dirichlet allocation (LDA) is a generative model that allows sets of observations to be explained by unobserved groups that explain why some parts of the data are similar. For example, if observations are words collected into documents, it posits that each document is a mixture of a small number of topics and that each word's creation is attributable to one of the document's topics."
   ]
  },
  {
   "cell_type": "code",
   "execution_count": 11,
   "metadata": {
    "collapsed": false
   },
   "outputs": [],
   "source": [
    "titles = np.array(documents.keys())\n",
    "labels = np.array(['tragedy','comedy','comedy', 'tragedy','tragedy','tragedy','tragedy', \n",
    "                           'tragedy','comedy','comedy','comedy', 'comedy','tragedy','comedy', \n",
    "                           'tragedy', 'comedy', 'comedy','comedy', 'comedy', 'comedy','comedy', \n",
    "                           'comedy', 'tragedy', 'tragedy', 'comedy','comedy','comedy'])\n",
    "year = np.array([1591, 1604, 1601, 1606, 1599, 1606, 1605, 1599, 1610, 1596, 1594, 1609, \n",
    "                 1605, 1598, 1607, 1600, 1603, 1610, 1590, 1599, 1600, 1595, 1604, 1592, \n",
    "                 1594, 1589, 1607])\n"
   ]
  },
  {
   "cell_type": "code",
   "execution_count": 12,
   "metadata": {
    "collapsed": false
   },
   "outputs": [],
   "source": [
    "lookup = []\n",
    "for index in xrange(len(titles)):\n",
    "    lookup.append( (titles[index], labels[index], year[index]))\n",
    "\n",
    "lookup = np.array(lookup)\n",
    "unique_words = vectorizer.get_feature_names()"
   ]
  },
  {
   "cell_type": "markdown",
   "metadata": {},
   "source": [
    "Number of topics the dumb way: max likelihood"
   ]
  },
  {
   "cell_type": "code",
   "execution_count": 13,
   "metadata": {
    "collapsed": false
   },
   "outputs": [],
   "source": [
    "loglikelihoods = []\n",
    "for k in range(2, 28):\n",
    "    topic_model = lda.LDA(n_topics = k, n_iter = 500)\n",
    "    topic_model.fit(freq_matrix)\n",
    "    loglikelihoods.append(topic_model.loglikelihood())"
   ]
  },
  {
   "cell_type": "code",
   "execution_count": 14,
   "metadata": {
    "collapsed": false
   },
   "outputs": [
    {
     "data": {
      "image/png": "[encoded data removed]",
      "text/plain": [
       "<matplotlib.figure.Figure at 0x10ba85250>"
      ]
     },
     "metadata": {},
     "output_type": "display_data"
    }
   ],
   "source": [
    "%matplotlib inline\n",
    "plt.plot(range(2,28), loglikelihoods)\n",
    "plt.show()"
   ]
  },
  {
   "cell_type": "code",
   "execution_count": 15,
   "metadata": {
    "collapsed": false
   },
   "outputs": [
    {
     "data": {
      "text/plain": [
       "<lda.lda.LDA instance at 0x101de5b00>"
      ]
     },
     "execution_count": 15,
     "metadata": {},
     "output_type": "execute_result"
    }
   ],
   "source": [
    "num_of_topics = 8\n",
    "topic_model = lda.LDA(n_topics= num_of_topics, n_iter=2000)\n",
    "topic_model.fit(freq_matrix)"
   ]
  },
  {
   "cell_type": "code",
   "execution_count": 16,
   "metadata": {
    "collapsed": false
   },
   "outputs": [
    {
     "data": {
      "text/plain": [
       "-2217150.5856773523"
      ]
     },
     "execution_count": 16,
     "metadata": {},
     "output_type": "execute_result"
    }
   ],
   "source": [
    "topic_model.loglikelihood()"
   ]
  },
  {
   "cell_type": "code",
   "execution_count": 17,
   "metadata": {
    "collapsed": false
   },
   "outputs": [
    {
     "name": "stdout",
     "output_type": "stream",
     "text": [
      "Topic 0: sweet lord ladi fair wit eye god day great fool cousin princ prais grace\n",
      "Topic 1: lord first fool clown gentleman ladi second servant daughter honour father like god madam\n",
      "Topic 2: sir ti upon heaven know brother life put speak natur think great honour strang\n",
      "Topic 3: master husband hous wife pray go host woman well money signior jew home kate\n",
      "Topic 4: king son eye sleep hand play murder dead tear death father moon like lie\n",
      "Topic 5: rome first nobl citizen senat us soldier second lord enter war roman god peopl\n",
      "Topic 6: sir hast us day gone master time hous therefor present mine enter welcom stay\n",
      "Topic 7: come shall good love let would well man say make go enter one know\n"
     ]
    }
   ],
   "source": [
    "topic_word = topic_model.topic_word_\n",
    "\n",
    "n_top_words = 15\n",
    "\n",
    "for i, topic_dist in enumerate(topic_word):\n",
    "    topic_words = np.array(unique_words)[np.argsort(topic_dist)][:-n_top_words:-1]\n",
    "    print('Topic {}: {}'.format(i, ' '.join(topic_words)))"
   ]
  },
  {
   "cell_type": "code",
   "execution_count": 18,
   "metadata": {
    "collapsed": false
   },
   "outputs": [
    {
     "data": {
      "image/png": "[encoded data removed]",
      "text/plain": [
       "<matplotlib.figure.Figure at 0x10c391bd0>"
      ]
     },
     "metadata": {},
     "output_type": "display_data"
    }
   ],
   "source": [
    "%matplotlib inline\n",
    "\n",
    "doc_topic = topic_model.doc_topic_\n",
    "\n",
    "f, ax= plt.subplots(5, 1, figsize=(10, 8), sharex=True)\n",
    "for i, k in enumerate([3, 4, 11, 21, 24]):\n",
    "    ax[i].stem(doc_topic[k,:], linefmt='r-',\n",
    "               markerfmt='ro', basefmt='w-')\n",
    "    ax[i].set_xlim(-1, num_of_topics)\n",
    "    ax[i].set_ylim(0, 1)\n",
    "    ax[i].set_ylabel(\"Prob\")\n",
    "    ax[i].set_title(titles[k])\n",
    "\n",
    "ax[4].set_xlabel(\"Topic\")\n",
    "\n",
    "plt.tight_layout()\n",
    "plt.show()"
   ]
  },
  {
   "cell_type": "markdown",
   "metadata": {},
   "source": [
    "### K-Means"
   ]
  },
  {
   "cell_type": "code",
   "execution_count": 19,
   "metadata": {
    "collapsed": false
   },
   "outputs": [
    {
     "data": {
      "text/plain": [
       "KMeans(copy_x=True, init='random', max_iter=300, n_clusters=2, n_init=10,\n",
       "    n_jobs=1, precompute_distances='auto', random_state=15, tol=0.0001,\n",
       "    verbose=0)"
      ]
     },
     "execution_count": 19,
     "metadata": {},
     "output_type": "execute_result"
    }
   ],
   "source": [
    "km_topics = KMeans(n_clusters = 2, init = 'random', random_state = 15)\n",
    "km_topics.fit(doc_topic)"
   ]
  },
  {
   "cell_type": "code",
   "execution_count": 20,
   "metadata": {
    "collapsed": false
   },
   "outputs": [
    {
     "data": {
      "text/plain": [
       "array([0, 0, 1, 0, 0, 0, 0, 0, 0, 1, 1, 0, 0, 1, 0, 1, 0, 0, 1, 1, 1, 1, 0,\n",
       "       1, 1, 1, 0], dtype=int32)"
      ]
     },
     "execution_count": 20,
     "metadata": {},
     "output_type": "execute_result"
    }
   ],
   "source": [
    "km_topics.labels_"
   ]
  },
  {
   "cell_type": "code",
   "execution_count": 21,
   "metadata": {
    "collapsed": false
   },
   "outputs": [
    {
     "data": {
      "text/plain": [
       "array([['titusandronicus', 'tragedy', '1591'],\n",
       "       ['allswellthatendswell', 'comedy', '1604'],\n",
       "       ['macbeth', 'tragedy', '1606'],\n",
       "       ['hamlet', 'tragedy', '1599'],\n",
       "       ['antonyandcleopatra', 'tragedy', '1606'],\n",
       "       ['kinglear', 'tragedy', '1605'],\n",
       "       ['juliuscaesar', 'tragedy', '1599'],\n",
       "       ['tempest', 'comedy', '1610'],\n",
       "       ['winterstale', 'comedy', '1609'],\n",
       "       ['timonofathens', 'tragedy', '1605'],\n",
       "       ['coriolanus', 'tragedy', '1607'],\n",
       "       ['measureforemeasure', 'comedy', '1603'],\n",
       "       ['cymbeline', 'comedy', '1610'],\n",
       "       ['othello', 'tragedy', '1604'],\n",
       "       ['periclesprinceoftyre', 'comedy', '1607']], \n",
       "      dtype='|S21')"
      ]
     },
     "execution_count": 21,
     "metadata": {},
     "output_type": "execute_result"
    }
   ],
   "source": [
    "lookup[ km_topics.labels_ == 0]"
   ]
  },
  {
   "cell_type": "code",
   "execution_count": 22,
   "metadata": {
    "collapsed": false
   },
   "outputs": [
    {
     "data": {
      "text/plain": [
       "array([['twelfthnight', 'comedy', '1601'],\n",
       "       ['merchantofvenice', 'comedy', '1596'],\n",
       "       ['loveslabourslost', 'comedy', '1594'],\n",
       "       ['muchadoaboutnothing', 'comedy', '1598'],\n",
       "       ['troilusandcressida', 'comedy', '1600'],\n",
       "       ['tamingoftheshrew', 'comedy', '1590'],\n",
       "       ['asyoulikeit', 'comedy', '1599'],\n",
       "       ['merrywivesofwindsor', 'comedy', '1600'],\n",
       "       ['midsummersnightsdream', 'comedy', '1595'],\n",
       "       ['romeoandjuliet', 'tragedy', '1592'],\n",
       "       ['comedyoferrors', 'comedy', '1594'],\n",
       "       ['twogentlemenofverona', 'comedy', '1589']], \n",
       "      dtype='|S21')"
      ]
     },
     "execution_count": 22,
     "metadata": {},
     "output_type": "execute_result"
    }
   ],
   "source": [
    "lookup[km_topics.labels_ == 1]"
   ]
  },
  {
   "cell_type": "code",
   "execution_count": 23,
   "metadata": {
    "collapsed": false
   },
   "outputs": [],
   "source": [
    "lookup_df = pd.DataFrame({'title':titles, 'label':labels, 'year':year, 'cluster':km_topics.labels_})\n",
    "groups = set(km_topics.labels_)"
   ]
  },
  {
   "cell_type": "code",
   "execution_count": 24,
   "metadata": {
    "collapsed": false
   },
   "outputs": [
    {
     "name": "stderr",
     "output_type": "stream",
     "text": [
      "/Library/Python/2.7/site-packages/IPython/extensions/rmagic.py:11: UserWarning: The rmagic extension in IPython has moved to `rpy2.ipython`, please see `rpy2` documentation.\n",
      "  warnings.warn(\"The rmagic extension in IPython has moved to \"\n"
     ]
    }
   ],
   "source": [
    "%load_ext rmagic"
   ]
  },
  {
   "cell_type": "code",
   "execution_count": 25,
   "metadata": {
    "collapsed": false
   },
   "outputs": [
    {
     "name": "stderr",
     "output_type": "stream",
     "text": [
      "ERROR: Line magic function `%Rpush` not found.\n",
      "ERROR: Line magic function `%R` not found.\n"
     ]
    }
   ],
   "source": [
    "%Rpush lookup_df\n",
    "%R boxplot(lookup_df$year ~ lookup_df$cluster, col = c('darkorchid4', 'darkorange')); abline(h = 1603, lty = 2)"
   ]
  },
  {
   "cell_type": "code",
   "execution_count": 26,
   "metadata": {
    "collapsed": false
   },
   "outputs": [
    {
     "name": "stderr",
     "output_type": "stream",
     "text": [
      "ERROR: Line magic function `%R` not found.\n"
     ]
    }
   ],
   "source": [
    "%R plot(x = titles$year, y = rep(1, nrow(titles)), pch = \"*\", cex = 3, col = ifelse(titles$cluster == 1, \"darkorange\", \"darkorchid4\"), xlab = \"Year\", ylab = \"\", yaxt = \"n\")"
   ]
  },
  {
   "cell_type": "code",
   "execution_count": 27,
   "metadata": {
    "collapsed": false
   },
   "outputs": [
    {
     "data": {
      "text/plain": [
       "<seaborn.axisgrid.FacetGrid at 0x10c0ce510>"
      ]
     },
     "execution_count": 27,
     "metadata": {},
     "output_type": "execute_result"
    },
    {
     "data": {
      "image/png": "[encoded data removed]",
      "text/plain": [
       "<matplotlib.figure.Figure at 0x101dfaa90>"
      ]
     },
     "metadata": {},
     "output_type": "display_data"
    }
   ],
   "source": [
    "sns.set(style=\"ticks\")\n",
    "\n",
    "g = sns.factorplot(x = 'cluster', y = 'year', data = lookup_df, kind='box')\n",
    "g.despine()\n",
    "g.set_axis_labels('Cluster', 'Year')"
   ]
  },
  {
   "cell_type": "markdown",
   "metadata": {},
   "source": [
    "#### My own implementation of k-means"
   ]
  },
  {
   "cell_type": "code",
   "execution_count": 28,
   "metadata": {
    "collapsed": false
   },
   "outputs": [
    {
     "name": "stdout",
     "output_type": "stream",
     "text": [
      "iteration 1\n",
      "iteration 2\n"
     ]
    }
   ],
   "source": [
    "my_km_topics = my_kmeans.km(dat = doc_topic, k = 2, random_state = 8)"
   ]
  },
  {
   "cell_type": "code",
   "execution_count": 29,
   "metadata": {
    "collapsed": false
   },
   "outputs": [
    {
     "data": {
      "text/plain": [
       "array([['titusandronicus', 'tragedy', '1591'],\n",
       "       ['allswellthatendswell', 'comedy', '1604'],\n",
       "       ['macbeth', 'tragedy', '1606'],\n",
       "       ['hamlet', 'tragedy', '1599'],\n",
       "       ['antonyandcleopatra', 'tragedy', '1606'],\n",
       "       ['kinglear', 'tragedy', '1605'],\n",
       "       ['juliuscaesar', 'tragedy', '1599'],\n",
       "       ['tempest', 'comedy', '1610'],\n",
       "       ['winterstale', 'comedy', '1609'],\n",
       "       ['timonofathens', 'tragedy', '1605'],\n",
       "       ['coriolanus', 'tragedy', '1607'],\n",
       "       ['measureforemeasure', 'comedy', '1603'],\n",
       "       ['cymbeline', 'comedy', '1610'],\n",
       "       ['othello', 'tragedy', '1604'],\n",
       "       ['periclesprinceoftyre', 'comedy', '1607']], \n",
       "      dtype='|S21')"
      ]
     },
     "execution_count": 29,
     "metadata": {},
     "output_type": "execute_result"
    }
   ],
   "source": [
    "lookup[my_km_topics == 0]"
   ]
  },
  {
   "cell_type": "code",
   "execution_count": 30,
   "metadata": {
    "collapsed": false
   },
   "outputs": [
    {
     "data": {
      "text/plain": [
       "array([['twelfthnight', 'comedy', '1601'],\n",
       "       ['merchantofvenice', 'comedy', '1596'],\n",
       "       ['loveslabourslost', 'comedy', '1594'],\n",
       "       ['muchadoaboutnothing', 'comedy', '1598'],\n",
       "       ['troilusandcressida', 'comedy', '1600'],\n",
       "       ['tamingoftheshrew', 'comedy', '1590'],\n",
       "       ['asyoulikeit', 'comedy', '1599'],\n",
       "       ['merrywivesofwindsor', 'comedy', '1600'],\n",
       "       ['midsummersnightsdream', 'comedy', '1595'],\n",
       "       ['romeoandjuliet', 'tragedy', '1592'],\n",
       "       ['comedyoferrors', 'comedy', '1594'],\n",
       "       ['twogentlemenofverona', 'comedy', '1589']], \n",
       "      dtype='|S21')"
      ]
     },
     "execution_count": 30,
     "metadata": {},
     "output_type": "execute_result"
    }
   ],
   "source": [
    "lookup[my_km_topics == 1]"
   ]
  },
  {
   "cell_type": "code",
   "execution_count": null,
   "metadata": {
    "collapsed": true
   },
   "outputs": [],
   "source": []
  }
 ],
 "metadata": {
  "kernelspec": {
   "display_name": "Python 2",
   "language": "python",
   "name": "python2"
  },
  "language_info": {
   "codemirror_mode": {
    "name": "ipython",
    "version": 2
   },
   "file_extension": ".py",
   "mimetype": "text/x-python",
   "name": "python",
   "nbconvert_exporter": "python",
   "pygments_lexer": "ipython2",
   "version": "2.7.10"
  }
 },
 "nbformat": 4,
 "nbformat_minor": 0
}
