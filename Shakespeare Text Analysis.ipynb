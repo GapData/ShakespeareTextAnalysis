{
 "metadata": {
  "name": "",
  "signature": "sha256:277bc8566722f07261ecd9d465c754b5637941846702be4c143e4dbaeed80e1a"
 },
 "nbformat": 3,
 "nbformat_minor": 0,
 "worksheets": [
  {
   "cells": [
    {
     "cell_type": "heading",
     "level": 4,
     "metadata": {},
     "source": [
      "Required libraries"
     ]
    },
    {
     "cell_type": "code",
     "collapsed": false,
     "input": [
      "import nltk\n",
      "import math\n",
      "import re\n",
      "import lda\n",
      "import sklearn\n",
      "import my_kmeans\n",
      "import numpy as np\n",
      "import matplotlib.pyplot as plt\n",
      "import seaborn as sns\n",
      "import pandas as pd\n",
      "\n",
      "from nltk.corpus import stopwords\n",
      "from nltk.tokenize import RegexpTokenizer\n",
      "from sklearn.feature_extraction.text import CountVectorizer, TfidfTransformer\n",
      "from sklearn.cluster import KMeans"
     ],
     "language": "python",
     "metadata": {},
     "outputs": [],
     "prompt_number": 97
    },
    {
     "cell_type": "code",
     "collapsed": false,
     "input": [
      "stopwords = nltk.corpus.stopwords.words('english')"
     ],
     "language": "python",
     "metadata": {},
     "outputs": [],
     "prompt_number": 2
    },
    {
     "cell_type": "heading",
     "level": 4,
     "metadata": {},
     "source": [
      "Input Data"
     ]
    },
    {
     "cell_type": "markdown",
     "metadata": {},
     "source": [
      "shakespeare.txt includes all Shakespeare's plays and poems. Each line of the file starts with the expression title@row_number:"
     ]
    },
    {
     "cell_type": "markdown",
     "metadata": {},
     "source": [
      ">hamlet@56053\tHAMLET\tWords, words, words.\n",
      ">\n",
      ">hamlet@56081\n",
      ">\n",
      ">hamlet@56082\tLORD POLONIUS\tWhat is the matter, my lord?\n",
      ">\n",
      ">hamlet@56125\n",
      ">\n",
      ">hamlet@56126\tHAMLET\tBetween who?\n",
      ">\n",
      ">hamlet@56146\n",
      ">\n",
      ">hamlet@56147\tLORD POLONIUS\tI mean, the matter that you read, my lord."
     ]
    },
    {
     "cell_type": "heading",
     "level": 3,
     "metadata": {},
     "source": [
      "Text normalization"
     ]
    },
    {
     "cell_type": "markdown",
     "metadata": {},
     "source": [
      "- find all the titles as a unique list of title@ expressions and delete the histories (for now) and the poems\n",
      "- split the text into a list of lines\n",
      "- for each play create an element in _collection_, delete title@row_number and store as plain text"
     ]
    },
    {
     "cell_type": "code",
     "collapsed": false,
     "input": [
      "collection = {} # dictionary of raw texts\n",
      "\n",
      "with open('../../Datastore/shakespeare.txt', 'r') as f:\n",
      "\traw = f.read()\n",
      "\ttitles = [t for t in set(re.findall(r'[a-z]+@{1}', raw))]\n",
      "\n",
      "\thistories = ['glossary@', 'various@', 'sonnets@', 'kinghenryvi@', 'kinghenryiv@', \n",
      "                 'venusandadonis@', 'rapeoflucrece@', 'loverscomplaint@', 'kingrichardiii@', \n",
      "                 'kingrichardii@', 'kingjohn@', 'kinghenryv@','kinghenryviii@']\n",
      "\ttitles = [title for title in titles if title not in histories]\n",
      "\n",
      "\tlines = raw.splitlines()\n",
      "\tfor t in titles:\n",
      "\t\tkey = t[:-1]\n",
      "\t\ttext = [re.sub(r'[a-z]+@{1}[0-9]+[ \\t\\n]+','', l) for l in lines if re.match(t+'[0-9]+', l)]\n",
      "\t\tcollection[key] = ' '.join(text)"
     ],
     "language": "python",
     "metadata": {},
     "outputs": [],
     "prompt_number": 3
    },
    {
     "cell_type": "markdown",
     "metadata": {},
     "source": [
      "- Initialize the tokenizer (disregards punctuation signs) and a stemmer (Porter algorithm)"
     ]
    },
    {
     "cell_type": "code",
     "collapsed": false,
     "input": [
      "tokenizer = RegexpTokenizer(r'\\w+')\n",
      "st = nltk.stem.PorterStemmer()"
     ],
     "language": "python",
     "metadata": {},
     "outputs": [],
     "prompt_number": 4
    },
    {
     "cell_type": "markdown",
     "metadata": {},
     "source": [
      "Add glossary of victorian english words"
     ]
    },
    {
     "cell_type": "code",
     "collapsed": false,
     "input": [
      "with open('glossary.txt', 'r') as f:\n",
      "\tglossary = f.read()\n",
      "\n",
      "glossary = tokenizer.tokenize(glossary)"
     ],
     "language": "python",
     "metadata": {},
     "outputs": [],
     "prompt_number": 5
    },
    {
     "cell_type": "code",
     "collapsed": false,
     "input": [
      "tokens = {}\n",
      "stemmed = {}\n",
      "documents = {} # dictionary of normalized texts\n",
      "\n",
      "for key in collection.keys():\n",
      "\tcollection[key] = re.sub(r'\\n?\\n[A-Z]*\\t|\\n|\\t', ' ', collection[key])\n",
      "\ttokens[key] = tokenizer.tokenize(collection[key]) # delete punctuation\n",
      "\tnames = [w.lower() for w in set(tokens[key]) if w.isupper()]\n",
      "\ttokens[key] = [w for w in tokens[key] if w.lower() not in names]\n",
      "\ttokens[key] = [w.lower() for w in tokens[key] if w.lower() not in stopwords + glossary]\n",
      "\tstemmed[key] = [st.stem(w.lower()) for w in tokens[key]]\n",
      "\tdocuments[key] = ' '.join(stemmed[key])    "
     ],
     "language": "python",
     "metadata": {},
     "outputs": [],
     "prompt_number": 6
    },
    {
     "cell_type": "markdown",
     "metadata": {},
     "source": [
      "**Feature Extraction/Vectorization**: given a Vocabulary (list of unique words in the corpus) each play is represented as an array of frequencies"
     ]
    },
    {
     "cell_type": "code",
     "collapsed": false,
     "input": [
      "vectorizer = CountVectorizer()"
     ],
     "language": "python",
     "metadata": {},
     "outputs": [],
     "prompt_number": 7
    },
    {
     "cell_type": "code",
     "collapsed": false,
     "input": [
      "tfidfTransf = TfidfTransformer()"
     ],
     "language": "python",
     "metadata": {},
     "outputs": [],
     "prompt_number": 8
    },
    {
     "cell_type": "markdown",
     "metadata": {},
     "source": [
      "CountVectorizer() requires as input a list of documents (raw text)"
     ]
    },
    {
     "cell_type": "code",
     "collapsed": false,
     "input": [
      "freq_matrix = vectorizer.fit_transform(list(documents.values())).toarray()\n",
      "freq_matrix.shape"
     ],
     "language": "python",
     "metadata": {},
     "outputs": [
      {
       "metadata": {},
       "output_type": "pyout",
       "prompt_number": 9,
       "text": [
        "(27, 11959)"
       ]
      }
     ],
     "prompt_number": 9
    },
    {
     "cell_type": "code",
     "collapsed": false,
     "input": [
      "tfidf_matrix = tfidfTransf.fit_transform(freq_matrix)\n",
      "tfidf_matrix.shape"
     ],
     "language": "python",
     "metadata": {},
     "outputs": [
      {
       "metadata": {},
       "output_type": "pyout",
       "prompt_number": 10,
       "text": [
        "(27, 11959)"
       ]
      }
     ],
     "prompt_number": 10
    },
    {
     "cell_type": "heading",
     "level": 3,
     "metadata": {},
     "source": [
      "Latent Dirichlet Allocation"
     ]
    },
    {
     "cell_type": "markdown",
     "metadata": {},
     "source": [
      "In natural language processing, latent Dirichlet allocation (LDA) is a generative model that allows sets of observations to be explained by unobserved groups that explain why some parts of the data are similar. For example, if observations are words collected into documents, it posits that each document is a mixture of a small number of topics and that each word's creation is attributable to one of the document's topics."
     ]
    },
    {
     "cell_type": "code",
     "collapsed": false,
     "input": [
      "titles = np.array(documents.keys())\n",
      "labels = np.array(['tragedy','comedy','comedy', 'tragedy','tragedy','tragedy','tragedy', \n",
      "                           'tragedy','comedy','comedy','comedy', 'comedy','tragedy','comedy', \n",
      "                           'tragedy', 'comedy', 'comedy','comedy', 'comedy', 'comedy','comedy', \n",
      "                           'comedy', 'tragedy', 'tragedy', 'comedy','comedy','comedy'])\n",
      "year = np.array([1591, 1604, 1601, 1606, 1599, 1606, 1605, 1599, 1610, 1596, 1594, 1609, \n",
      "                 1605, 1598, 1607, 1600, 1603, 1610, 1590, 1599, 1600, 1595, 1604, 1592, \n",
      "                 1594, 1589, 1607])\n"
     ],
     "language": "python",
     "metadata": {},
     "outputs": [],
     "prompt_number": 76
    },
    {
     "cell_type": "code",
     "collapsed": false,
     "input": [
      "lookup = []\n",
      "for index in xrange(len(titles)):\n",
      "    lookup.append( (titles[index], labels[index], year[index]))\n",
      "\n",
      "lookup = np.array(lookup)\n",
      "    \n",
      "unique_words = vectorizer.get_feature_names()"
     ],
     "language": "python",
     "metadata": {},
     "outputs": [],
     "prompt_number": 78
    },
    {
     "cell_type": "markdown",
     "metadata": {},
     "source": [
      "Number of topics the dumb way: max likelihood"
     ]
    },
    {
     "cell_type": "code",
     "collapsed": false,
     "input": [
      "loglikelihoods = []\n",
      "for k in range(2, 28):\n",
      "    topic_model = lda.LDA(n_topics = k, n_iter = 500)\n",
      "    topic_model.fit(freq_matrix)\n",
      "    loglikelihoods.append(topic_model.loglikelihood())"
     ],
     "language": "python",
     "metadata": {},
     "outputs": [],
     "prompt_number": 16
    },
    {
     "cell_type": "code",
     "collapsed": false,
     "input": [
      "%matplotlib inline\n",
      "plt.plot(range(2,28), loglikelihoods)\n",
      "plt.show()"
     ],
     "language": "python",
     "metadata": {},
     "outputs": [
      {
       "metadata": {},
       "output_type": "display_data",
       "png": "[encoded data removed]",
       "text": [
        "<matplotlib.figure.Figure at 0x10d3ad850>"
       ]
      }
     ],
     "prompt_number": 17
    },
    {
     "cell_type": "code",
     "collapsed": false,
     "input": [
      "num_of_topics = 12\n",
      "topic_model = lda.LDA(n_topics= num_of_topics, n_iter=500)\n",
      "topic_model.fit(freq_matrix)"
     ],
     "language": "python",
     "metadata": {},
     "outputs": [
      {
       "metadata": {},
       "output_type": "pyout",
       "prompt_number": 104,
       "text": [
        "<lda.lda.LDA instance at 0x114e29998>"
       ]
      }
     ],
     "prompt_number": 104
    },
    {
     "cell_type": "code",
     "collapsed": false,
     "input": [
      "topic_word = topic_model.topic_word_\n",
      "\n",
      "n_top_words = 15\n",
      "\n",
      "for i, topic_dist in enumerate(topic_word):\n",
      "    topic_words = np.array(unique_words)[np.argsort(topic_dist)][:-n_top_words:-1]\n",
      "    print('Topic {}: {}'.format(i, ' '.join(topic_words)))"
     ],
     "language": "python",
     "metadata": {},
     "outputs": [
      {
       "output_type": "stream",
       "stream": "stdout",
       "text": [
        "Topic 0: make love like exit upon hear never cannot fear noth thing much away put\n",
        "Topic 1: lord friend servant pray say would master present time know man two honest well\n",
        "Topic 2: come shall enter us day take tell look hand night stand death name till\n",
        "Topic 3: let good shall come well go know give say ti must may speak think\n",
        "Topic 4: sir lord first honour would second good one great mine must natur life gentleman\n",
        "Topic 5: love sir say go well sweet come good tell man call signior thank father\n",
        "Topic 6: rome first nobl citizen let senat second roman soldier war go friend us enter\n",
        "Topic 7: master go host husband wife come woman home hous mine chain good pray man\n",
        "Topic 8: fair one eye word ladi wit sweet three grace true tongu shall letter affect\n",
        "Topic 9: king sleep moon murder monster eye witch play must strang spirit wood lie pyramu\n",
        "Topic 10: son father dead sea see tear arm hast like daughter grief live sorrow mother"
       ]
      },
      {
       "output_type": "stream",
       "stream": "stdout",
       "text": [
        "\n",
        "Topic 11: man would fool heart lord one men everi god old great lie ladi see\n"
       ]
      }
     ],
     "prompt_number": 105
    },
    {
     "cell_type": "code",
     "collapsed": false,
     "input": [
      "%matplotlib inline\n",
      "\n",
      "doc_topic = topic_model.doc_topic_\n",
      "\n",
      "f, ax= plt.subplots(5, 1, figsize=(10, 8), sharex=True)\n",
      "for i, k in enumerate([3, 4, 11, 21, 24]):\n",
      "    ax[i].stem(doc_topic[k,:], linefmt='r-',\n",
      "               markerfmt='ro', basefmt='w-')\n",
      "    ax[i].set_xlim(-1, num_of_topics)\n",
      "    ax[i].set_ylim(0, 1)\n",
      "    ax[i].set_ylabel(\"Prob\")\n",
      "    ax[i].set_title(titles[k])\n",
      "\n",
      "ax[4].set_xlabel(\"Topic\")\n",
      "\n",
      "plt.tight_layout()\n",
      "plt.show()"
     ],
     "language": "python",
     "metadata": {},
     "outputs": [
      {
       "metadata": {},
       "output_type": "display_data",
       "png": "[encoded data removed]",
       "text": [
        "<matplotlib.figure.Figure at 0x113c9d2d0>"
       ]
      }
     ],
     "prompt_number": 106
    },
    {
     "cell_type": "heading",
     "level": 3,
     "metadata": {},
     "source": [
      "K-Means"
     ]
    },
    {
     "cell_type": "code",
     "collapsed": false,
     "input": [
      "km_topics = KMeans(n_clusters = 2, init = 'random', random_state = 125)\n",
      "km_topics.fit(doc_topic)"
     ],
     "language": "python",
     "metadata": {},
     "outputs": [
      {
       "metadata": {},
       "output_type": "pyout",
       "prompt_number": 107,
       "text": [
        "KMeans(copy_x=True, init='random', max_iter=300, n_clusters=2, n_init=10,\n",
        "    n_jobs=1, precompute_distances=True, random_state=125, tol=0.0001,\n",
        "    verbose=0)"
       ]
      }
     ],
     "prompt_number": 107
    },
    {
     "cell_type": "code",
     "collapsed": false,
     "input": [
      "km_topics.labels_"
     ],
     "language": "python",
     "metadata": {},
     "outputs": [
      {
       "metadata": {},
       "output_type": "pyout",
       "prompt_number": 108,
       "text": [
        "array([1, 1, 0, 1, 1, 1, 1, 1, 1, 0, 0, 1, 1, 0, 1, 0, 1, 1, 0, 0, 0, 0, 1,\n",
        "       0, 0, 0, 1], dtype=int32)"
       ]
      }
     ],
     "prompt_number": 108
    },
    {
     "cell_type": "code",
     "collapsed": false,
     "input": [
      "lookup[ km_topics.labels_ == 0]"
     ],
     "language": "python",
     "metadata": {},
     "outputs": [
      {
       "metadata": {},
       "output_type": "pyout",
       "prompt_number": 79,
       "text": [
        "array([['twelfthnight', 'comedy', '1601'],\n",
        "       ['merchantofvenice', 'comedy', '1596'],\n",
        "       ['loveslabourslost', 'comedy', '1594'],\n",
        "       ['muchadoaboutnothing', 'comedy', '1598'],\n",
        "       ['troilusandcressida', 'comedy', '1600'],\n",
        "       ['tamingoftheshrew', 'comedy', '1590'],\n",
        "       ['asyoulikeit', 'comedy', '1599'],\n",
        "       ['merrywivesofwindsor', 'comedy', '1600'],\n",
        "       ['midsummersnightsdream', 'comedy', '1595'],\n",
        "       ['romeoandjuliet', 'tragedy', '1592'],\n",
        "       ['comedyoferrors', 'comedy', '1594'],\n",
        "       ['twogentlemenofverona', 'comedy', '1589']], \n",
        "      dtype='|S21')"
       ]
      }
     ],
     "prompt_number": 79
    },
    {
     "cell_type": "code",
     "collapsed": false,
     "input": [
      "lookup[km_topics.labels_ == 1]"
     ],
     "language": "python",
     "metadata": {},
     "outputs": [
      {
       "metadata": {},
       "output_type": "pyout",
       "prompt_number": 109,
       "text": [
        "array([['titusandronicus', 'tragedy', '1591'],\n",
        "       ['allswellthatendswell', 'comedy', '1604'],\n",
        "       ['macbeth', 'tragedy', '1606'],\n",
        "       ['hamlet', 'tragedy', '1599'],\n",
        "       ['antonyandcleopatra', 'tragedy', '1606'],\n",
        "       ['kinglear', 'tragedy', '1605'],\n",
        "       ['juliuscaesar', 'tragedy', '1599'],\n",
        "       ['tempest', 'comedy', '1610'],\n",
        "       ['winterstale', 'comedy', '1609'],\n",
        "       ['timonofathens', 'tragedy', '1605'],\n",
        "       ['coriolanus', 'tragedy', '1607'],\n",
        "       ['measureforemeasure', 'comedy', '1603'],\n",
        "       ['cymbeline', 'comedy', '1610'],\n",
        "       ['othello', 'tragedy', '1604'],\n",
        "       ['periclesprinceoftyre', 'comedy', '1607']], \n",
        "      dtype='|S21')"
       ]
      }
     ],
     "prompt_number": 109
    },
    {
     "cell_type": "code",
     "collapsed": false,
     "input": [
      "sns.set(style=\"ticks\")\n",
      "\n",
      "lookup_df = pd.DataFrame(lookup, columns=['title','label','year'])\n",
      "lookup_df['cluster'] = km_topics.labels_\n",
      "groups = set(km_topics.labels_)\n",
      "\n",
      "g = sns.factorplot(x = 'cluster', y = 'year', data = lookup_df, kind='box')\n",
      "g.despine()\n",
      "g.set_axis_labels('Cluster', 'Year')"
     ],
     "language": "python",
     "metadata": {},
     "outputs": [
      {
       "metadata": {},
       "output_type": "pyout",
       "prompt_number": 110,
       "text": [
        "<seaborn.axisgrid.FacetGrid at 0x113b5c0d0>"
       ]
      },
      {
       "metadata": {},
       "output_type": "display_data",
       "png": "[encoded data removed]",
       "text": [
        "<matplotlib.figure.Figure at 0x1152b62d0>"
       ]
      }
     ],
     "prompt_number": 110
    },
    {
     "cell_type": "heading",
     "level": 4,
     "metadata": {},
     "source": [
      "My own implementation of k-means"
     ]
    },
    {
     "cell_type": "code",
     "collapsed": false,
     "input": [
      "my_km_topics = my_kmeans.km(dat = doc_topic, k = 2, random_state = 8)"
     ],
     "language": "python",
     "metadata": {},
     "outputs": [
      {
       "output_type": "stream",
       "stream": "stdout",
       "text": [
        "iteration 1\n",
        "iteration 2\n",
        "iteration 3\n"
       ]
      }
     ],
     "prompt_number": 149
    },
    {
     "cell_type": "code",
     "collapsed": false,
     "input": [
      "lookup[my_km_topics == 0]"
     ],
     "language": "python",
     "metadata": {},
     "outputs": [
      {
       "metadata": {},
       "output_type": "pyout",
       "prompt_number": 150,
       "text": [
        "array([['titusandronicus', 'tragedy', '1591'],\n",
        "       ['allswellthatendswell', 'comedy', '1604'],\n",
        "       ['macbeth', 'tragedy', '1606'],\n",
        "       ['hamlet', 'tragedy', '1599'],\n",
        "       ['antonyandcleopatra', 'tragedy', '1606'],\n",
        "       ['kinglear', 'tragedy', '1605'],\n",
        "       ['juliuscaesar', 'tragedy', '1599'],\n",
        "       ['tempest', 'comedy', '1610'],\n",
        "       ['winterstale', 'comedy', '1609'],\n",
        "       ['timonofathens', 'tragedy', '1605'],\n",
        "       ['coriolanus', 'tragedy', '1607'],\n",
        "       ['measureforemeasure', 'comedy', '1603'],\n",
        "       ['cymbeline', 'comedy', '1610'],\n",
        "       ['othello', 'tragedy', '1604'],\n",
        "       ['periclesprinceoftyre', 'comedy', '1607']], \n",
        "      dtype='|S21')"
       ]
      }
     ],
     "prompt_number": 150
    },
    {
     "cell_type": "code",
     "collapsed": false,
     "input": [
      "lookup[my_km_topics == 1]"
     ],
     "language": "python",
     "metadata": {},
     "outputs": [
      {
       "metadata": {},
       "output_type": "pyout",
       "prompt_number": 151,
       "text": [
        "array([['twelfthnight', 'comedy', '1601'],\n",
        "       ['merchantofvenice', 'comedy', '1596'],\n",
        "       ['loveslabourslost', 'comedy', '1594'],\n",
        "       ['muchadoaboutnothing', 'comedy', '1598'],\n",
        "       ['troilusandcressida', 'comedy', '1600'],\n",
        "       ['tamingoftheshrew', 'comedy', '1590'],\n",
        "       ['asyoulikeit', 'comedy', '1599'],\n",
        "       ['merrywivesofwindsor', 'comedy', '1600'],\n",
        "       ['midsummersnightsdream', 'comedy', '1595'],\n",
        "       ['romeoandjuliet', 'tragedy', '1592'],\n",
        "       ['comedyoferrors', 'comedy', '1594'],\n",
        "       ['twogentlemenofverona', 'comedy', '1589']], \n",
        "      dtype='|S21')"
       ]
      }
     ],
     "prompt_number": 151
    },
    {
     "cell_type": "markdown",
     "metadata": {},
     "source": [
      "Export input/results into csv (I'm going to do pretty pictures in R or d3)"
     ]
    },
    {
     "cell_type": "code",
     "collapsed": false,
     "input": [
      "np.savetxt('clusters.csv', km_topics.labels_, delimiter = ',')\n",
      "np.savetxt('vocabulary.csv', vectorizer.get_feature_names(), fmt = '%s', delimiter = ',')\n",
      "np.savetxt('freq_matrix.csv', freq_matrix, delimiter = ',')\n",
      "np.savetxt('topic_words.csv', topic_model.topic_word_, delimiter = ',')\n",
      "np.savetxt('doc_topic.csv', doc_topic, delimiter = ',')\n",
      "np.savetxt('titles.csv', lookup_df, delimiter=',', fmt = '%s')"
     ],
     "language": "python",
     "metadata": {},
     "outputs": [],
     "prompt_number": 152
    },
    {
     "cell_type": "code",
     "collapsed": false,
     "input": [],
     "language": "python",
     "metadata": {},
     "outputs": []
    }
   ],
   "metadata": {}
  }
 ]
}