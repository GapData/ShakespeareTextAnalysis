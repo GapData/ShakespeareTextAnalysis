{
 "cells": [
  {
   "cell_type": "markdown",
   "metadata": {},
   "source": [
    "## Intro"
   ]
  },
  {
   "cell_type": "markdown",
   "metadata": {},
   "source": [
    "This is a project I worked on a few months ago as I was learning about NLP and found myself with a digital copy of all the Shakespeare's plays.\n",
    "\n",
    "There is some controversy around Shakespeare and whether he actually was the author of all the work it's been attributed to him. Despite this the experts do agree on a classification of the plays into comedies and tragedies. Beside the fact that one has a happy ending and one doesn't the two genres do differ for language, themes and writing style.\n",
    "\n",
    "So the objective of this analysis is to identify, if possible, a split of the plays using natural language processing and compare it to the traditional classification to see it's captured by it."
   ]
  },
  {
   "cell_type": "markdown",
   "metadata": {},
   "source": [
    "#### Required libraries"
   ]
  },
  {
   "cell_type": "code",
   "execution_count": 1,
   "metadata": {
    "collapsed": false
   },
   "outputs": [],
   "source": [
    "import nltk\n",
    "import math\n",
    "import re\n",
    "import lda\n",
    "import sklearn\n",
    "import my_kmeans\n",
    "import numpy as np\n",
    "import matplotlib.pyplot as plt\n",
    "import seaborn as sns\n",
    "import pandas as pd\n",
    "\n",
    "from nltk.corpus import stopwords\n",
    "from nltk.tokenize import RegexpTokenizer\n",
    "from sklearn.feature_extraction.text import CountVectorizer, TfidfTransformer\n",
    "from sklearn.cluster import KMeans\n",
    "from ggplot import *"
   ]
  },
  {
   "cell_type": "code",
   "execution_count": 2,
   "metadata": {
    "collapsed": false
   },
   "outputs": [],
   "source": [
    "stopwords = nltk.corpus.stopwords.words('english')"
   ]
  },
  {
   "cell_type": "markdown",
   "metadata": {},
   "source": [
    "## Pre-processing"
   ]
  },
  {
   "cell_type": "markdown",
   "metadata": {},
   "source": [
    "Before doing any analysis we need to perform a few operations to make the text machine-usable, so we first tokenize it (which simply means create a list where every element is a unigram = single word) and then use a process called stemming to remove suffixes so that words with the same root/meaning have the same representation. After this we remove all the stop-words (words like 'and', 'you', 'auxiliary verbs'.. that are very common but don't give any real insight on the text). At the end we obtain a matrix representation of the collection where each document is represented by a vector or word frequencies."
   ]
  },
  {
   "cell_type": "markdown",
   "metadata": {},
   "source": [
    "#### Input Data"
   ]
  },
  {
   "cell_type": "markdown",
   "metadata": {},
   "source": [
    "shakespeare.txt includes all Shakespeare's plays and poems. Each line of the file starts with the expression title@row_number:"
   ]
  },
  {
   "cell_type": "markdown",
   "metadata": {},
   "source": [
    ">hamlet@56053\tHAMLET\tWords, words, words.\n",
    ">\n",
    ">hamlet@56081\n",
    ">\n",
    ">hamlet@56082\tLORD POLONIUS\tWhat is the matter, my lord?\n",
    ">\n",
    ">hamlet@56125\n",
    ">\n",
    ">hamlet@56126\tHAMLET\tBetween who?\n",
    ">\n",
    ">hamlet@56146\n",
    ">\n",
    ">hamlet@56147\tLORD POLONIUS\tI mean, the matter that you read, my lord."
   ]
  },
  {
   "cell_type": "markdown",
   "metadata": {},
   "source": [
    "### Text normalization"
   ]
  },
  {
   "cell_type": "markdown",
   "metadata": {},
   "source": [
    "- find all the titles as a unique list of title@ expressions and delete the histories (for now) and the poems\n",
    "- split the text into a list of lines\n",
    "- for each play create an element in _collection_, delete title@row_number and store as plain text"
   ]
  },
  {
   "cell_type": "code",
   "execution_count": 3,
   "metadata": {
    "collapsed": false
   },
   "outputs": [],
   "source": [
    "collection = {} # dictionary of raw texts\n",
    "\n",
    "with open('../../Datastore/shakespeare.txt', 'r') as f:\n",
    "\traw = f.read()\n",
    "\ttitles = [t for t in set(re.findall(r'[a-z]+@{1}', raw))]\n",
    "\n",
    "\thistories = ['glossary@', 'various@', 'sonnets@', 'kinghenryvi@', 'kinghenryiv@', \n",
    "                 'venusandadonis@', 'rapeoflucrece@', 'loverscomplaint@', 'kingrichardiii@', \n",
    "                 'kingrichardii@', 'kingjohn@', 'kinghenryv@','kinghenryviii@']\n",
    "\ttitles = [title for title in titles if title not in histories]\n",
    "\n",
    "\tlines = raw.splitlines()\n",
    "\tfor t in titles:\n",
    "\t\tkey = t[:-1]\n",
    "\t\ttext = [re.sub(r'[a-z]+@{1}[0-9]+[ \\t\\n]+','', l) for l in lines if re.match(t+'[0-9]+', l)]\n",
    "\t\tcollection[key] = ' '.join(text)"
   ]
  },
  {
   "cell_type": "markdown",
   "metadata": {},
   "source": [
    "- Initialize the tokenizer (disregards punctuation signs) and a stemmer (Porter algorithm)"
   ]
  },
  {
   "cell_type": "code",
   "execution_count": 4,
   "metadata": {
    "collapsed": false
   },
   "outputs": [],
   "source": [
    "tokenizer = RegexpTokenizer(r'\\w+')\n",
    "st = nltk.stem.PorterStemmer()"
   ]
  },
  {
   "cell_type": "markdown",
   "metadata": {},
   "source": [
    "Add glossary of victorian english words"
   ]
  },
  {
   "cell_type": "code",
   "execution_count": 5,
   "metadata": {
    "collapsed": false
   },
   "outputs": [],
   "source": [
    "with open('glossary.txt', 'r') as f:\n",
    "\tglossary = f.read()\n",
    "\n",
    "glossary = tokenizer.tokenize(glossary)"
   ]
  },
  {
   "cell_type": "code",
   "execution_count": 6,
   "metadata": {
    "collapsed": false
   },
   "outputs": [],
   "source": [
    "tokens = {}\n",
    "stemmed = {}\n",
    "documents = {} # dictionary of normalized texts\n",
    "\n",
    "for key in collection.keys():\n",
    "\tcollection[key] = re.sub(r'\\n?\\n[A-Z]*\\t|\\n|\\t', ' ', collection[key])\n",
    "\ttokens[key] = tokenizer.tokenize(collection[key]) # delete punctuation\n",
    "\tnames = [w.lower() for w in set(tokens[key]) if w.isupper()]\n",
    "\ttokens[key] = [w for w in tokens[key] if w.lower() not in names]\n",
    "\ttokens[key] = [w.lower() for w in tokens[key] if w.lower() not in stopwords + glossary]\n",
    "\tstemmed[key] = [st.stem(w.lower()) for w in tokens[key]]\n",
    "\tdocuments[key] = ' '.join(stemmed[key])    "
   ]
  },
  {
   "cell_type": "code",
   "execution_count": 7,
   "metadata": {
    "collapsed": true
   },
   "outputs": [],
   "source": [
    "from gensim import corpora, models\n",
    "\n",
    "texts = []\n",
    "for doc in stemmed:\n",
    "    texts.append(stemmed[doc])"
   ]
  },
  {
   "cell_type": "code",
   "execution_count": 8,
   "metadata": {
    "collapsed": false
   },
   "outputs": [],
   "source": [
    "words = corpora.Dictionary(texts)"
   ]
  },
  {
   "cell_type": "code",
   "execution_count": 9,
   "metadata": {
    "collapsed": false
   },
   "outputs": [],
   "source": [
    "corpus = [words.doc2bow(text) for text in texts]"
   ]
  },
  {
   "cell_type": "markdown",
   "metadata": {},
   "source": [
    "**Feature Extraction/Vectorization**: given a Vocabulary (list of unique words in the corpus) each play is represented as an array of frequencies"
   ]
  },
  {
   "cell_type": "code",
   "execution_count": 10,
   "metadata": {
    "collapsed": false
   },
   "outputs": [],
   "source": [
    "vectorizer = CountVectorizer()"
   ]
  },
  {
   "cell_type": "code",
   "execution_count": 11,
   "metadata": {
    "collapsed": false
   },
   "outputs": [],
   "source": [
    "tfidfTransf = TfidfTransformer()"
   ]
  },
  {
   "cell_type": "markdown",
   "metadata": {},
   "source": [
    "CountVectorizer() requires as input a list of documents (raw text)"
   ]
  },
  {
   "cell_type": "code",
   "execution_count": 12,
   "metadata": {
    "collapsed": false
   },
   "outputs": [
    {
     "data": {
      "text/plain": [
       "(27, 11959)"
      ]
     },
     "execution_count": 12,
     "metadata": {},
     "output_type": "execute_result"
    }
   ],
   "source": [
    "freq_matrix = vectorizer.fit_transform(list(documents.values())).toarray()\n",
    "freq_matrix.shape"
   ]
  },
  {
   "cell_type": "code",
   "execution_count": 13,
   "metadata": {
    "collapsed": false
   },
   "outputs": [
    {
     "data": {
      "text/plain": [
       "(27, 11959)"
      ]
     },
     "execution_count": 13,
     "metadata": {},
     "output_type": "execute_result"
    }
   ],
   "source": [
    "tfidf_matrix = tfidfTransf.fit_transform(freq_matrix)\n",
    "tfidf_matrix.shape"
   ]
  },
  {
   "cell_type": "markdown",
   "metadata": {},
   "source": [
    "### Latent Dirichlet Allocation"
   ]
  },
  {
   "cell_type": "markdown",
   "metadata": {},
   "source": [
    "Latent Dirichlet Allocation is an unsupervised technique for topic modelling.\n",
    "Given a collection of documents, and k probability distributions over a collection of words (which we're going to call topic) LDA describe the statistical relationship between random variables that specifies a probabilistic procedure to generate topics, and documents. In this prospective LDA is a generative model, that is it describes how document obtains its words.\n",
    "\n",
    "LDA describes documents generation as a 3 step process:\n",
    "1. for each document draw a topic distribution\n",
    "2. for each word in a document\n",
    "1. draw a specific topic\n",
    "2. draw a word from the multinomial probability conditioned on the topic\n",
    "\n",
    "We can graphically display these model:\n",
    "alpha and beta are corpus level parameters, where alpha is the parameter for the dirichlet distribution describing the topics within documents and beta is a metrics of word probabilities in a topic. This parameters are only selected once in the process of generating the corpus.\n",
    "then the outher box represent documents, with theta being a document-level parameter sampled once per each document.\n",
    "And the inner plate represents the repeated choice of topics and words within a document, where topics and words (z and w) are selected once per each word in each document.\n",
    "\n",
    "\n",
    "what we are most interested in for this analysis is the dirichlet distribution. This because it can be used to model the randomness of probability mass functions.\n",
    "A probability mass function gives the probability of a discrete variable to take a specific value x. A simple example of pmf is a 6-sided dice. If we have a bag full of dices and we randomly extract one we are effectively drawing from a random pmf. This can be modelled with a Dir. Of parameter alpha.\n",
    "In the text example, a document is a collection of words and therefore can be regarded as a multinomial, so if x is a multinomial of parameters n and q, the dirichlet serves as a prior for the parameter q, where Qi positive and the sum of them equals 1.\n",
    "In LDA topics are latent multinomials so we can use the dirichlet distribution to describe the probability of each topic in each document."
   ]
  },
  {
   "cell_type": "code",
   "execution_count": 14,
   "metadata": {
    "collapsed": false
   },
   "outputs": [],
   "source": [
    "titles = np.array(documents.keys())\n",
    "labels = np.array(['tragedy','comedy','comedy', 'tragedy','tragedy','tragedy','tragedy', \n",
    "                           'tragedy','comedy','comedy','comedy', 'comedy','tragedy','comedy', \n",
    "                           'tragedy', 'comedy', 'comedy','comedy', 'comedy', 'comedy','comedy', \n",
    "                           'comedy', 'tragedy', 'tragedy', 'comedy','comedy','comedy'])\n",
    "year = np.array([1591, 1604, 1601, 1606, 1599, 1606, 1605, 1599, 1610, 1596, 1594, 1609, \n",
    "                 1605, 1598, 1607, 1600, 1603, 1610, 1590, 1599, 1600, 1595, 1604, 1592, \n",
    "                 1594, 1589, 1607])\n"
   ]
  },
  {
   "cell_type": "code",
   "execution_count": 15,
   "metadata": {
    "collapsed": false
   },
   "outputs": [],
   "source": [
    "lookup = []\n",
    "for index in xrange(len(titles)):\n",
    "    lookup.append( (titles[index], labels[index], year[index]))\n",
    "\n",
    "lookup = np.array(lookup)\n",
    "unique_words = vectorizer.get_feature_names()"
   ]
  },
  {
   "cell_type": "markdown",
   "metadata": {},
   "source": [
    "Number of topics the dumb way: max likelihood"
   ]
  },
  {
   "cell_type": "code",
   "execution_count": 16,
   "metadata": {
    "collapsed": false
   },
   "outputs": [],
   "source": [
    "loglikelihoods = []\n",
    "for k in [3, 6, 9, 18, 27, 36, 45, 54]:\n",
    "    topic_model = lda.LDA(n_topics = k, n_iter = 500, random_state=23)\n",
    "    topic_model.fit(freq_matrix)\n",
    "    loglikelihoods.append(topic_model.loglikelihood())"
   ]
  },
  {
   "cell_type": "code",
   "execution_count": 17,
   "metadata": {
    "collapsed": false
   },
   "outputs": [],
   "source": [
    "tmp = pd.DataFrame({ \n",
    "        'num_topics': [3, 6, 9, 18, 27, 36, 45, 54],\n",
    "        'log_like': loglikelihoods})"
   ]
  },
  {
   "cell_type": "code",
   "execution_count": 18,
   "metadata": {
    "collapsed": false
   },
   "outputs": [
    {
     "name": "stdout",
     "output_type": "stream",
     "text": [
      "         log_like  num_topics\n",
      "0 -2206755.709491           3\n",
      "1 -2232222.193400           6\n",
      "2 -2233875.194041           9\n",
      "3 -2258114.550968          18\n",
      "4 -2252331.133454          27\n",
      "5 -2262693.982787          36\n",
      "6 -2268577.325598          45\n",
      "7 -2272655.333492          54\n"
     ]
    }
   ],
   "source": [
    "print tmp"
   ]
  },
  {
   "cell_type": "code",
   "execution_count": 19,
   "metadata": {
    "collapsed": false
   },
   "outputs": [
    {
     "name": "stderr",
     "output_type": "stream",
     "text": [
      "/Users/serena/.virtualenvs/py/lib/python2.7/site-packages/matplotlib/collections.py:590: FutureWarning: elementwise comparison failed; returning scalar instead, but in the future will perform elementwise comparison\n",
      "  if self._edgecolors == str('face'):\n"
     ]
    },
    {
     "data": {
      "image/png": "[encoded data removed]",
      "text/plain": [
       "<matplotlib.figure.Figure at 0x110dfd390>"
      ]
     },
     "metadata": {},
     "output_type": "display_data"
    },
    {
     "data": {
      "text/plain": [
       "<ggplot: (286116537)>"
      ]
     },
     "execution_count": 19,
     "metadata": {},
     "output_type": "execute_result"
    }
   ],
   "source": [
    "%matplotlib inline\n",
    "# plt.plot(range(2,28), loglikelihoods)\n",
    "# plt.show()\n",
    "ggplot(tmp, aes(x='num_topics', y='log_like')) + geom_line(color='steelblue', size=2) + xlab('number of topics') \\\n",
    "+ ylab('Log-Likelihood') + theme_bw() + geom_vline(xintercept=9, linetype='dashed')"
   ]
  },
  {
   "cell_type": "code",
   "execution_count": 20,
   "metadata": {
    "collapsed": false
   },
   "outputs": [
    {
     "data": {
      "text/plain": [
       "<lda.lda.LDA instance at 0x1135d7d88>"
      ]
     },
     "execution_count": 20,
     "metadata": {},
     "output_type": "execute_result"
    }
   ],
   "source": [
    "num_of_topics = 9\n",
    "topic_model = lda.LDA(n_topics= num_of_topics, n_iter=500, random_state=123)\n",
    "topic_model.fit(freq_matrix)"
   ]
  },
  {
   "cell_type": "code",
   "execution_count": 21,
   "metadata": {
    "collapsed": false
   },
   "outputs": [
    {
     "data": {
      "text/plain": [
       "-2244305.5102758184"
      ]
     },
     "execution_count": 21,
     "metadata": {},
     "output_type": "execute_result"
    }
   ],
   "source": [
    "topic_model.loglikelihood()"
   ]
  },
  {
   "cell_type": "code",
   "execution_count": 22,
   "metadata": {
    "collapsed": false
   },
   "outputs": [
    {
     "data": {
      "text/plain": [
       "[<matplotlib.lines.Line2D at 0x1157cadd0>]"
      ]
     },
     "execution_count": 22,
     "metadata": {},
     "output_type": "execute_result"
    },
    {
     "data": {
      "image/png": "[encoded data removed]",
      "text/plain": [
       "<matplotlib.figure.Figure at 0x110dc3910>"
      ]
     },
     "metadata": {},
     "output_type": "display_data"
    }
   ],
   "source": [
    "plt.plot(topic_model.loglikelihoods_)"
   ]
  },
  {
   "cell_type": "markdown",
   "metadata": {},
   "source": [
    "As a result, we obtain *num_of_topic* word distributions, which represent the topics (top 10 here) and, more interesting  *num_of_topics-dimentional* distribution of topics within documents."
   ]
  },
  {
   "cell_type": "markdown",
   "metadata": {},
   "source": [
    "#### Model with 9 topics"
   ]
  },
  {
   "cell_type": "code",
   "execution_count": 23,
   "metadata": {
    "collapsed": false
   },
   "outputs": [
    {
     "name": "stdout",
     "output_type": "stream",
     "text": [
      "Topic 0: rome soldier first nobl enter second heart exeunt us\n",
      "Topic 1: come shall man good give upon enter let love\n",
      "Topic 2: father mine live brother son daughter hand see may\n",
      "Topic 3: lord first servant like second make er friend best\n",
      "Topic 4: love sweet fair eye wit heart therefor never one\n",
      "Topic 5: would shall let know say us speak well hear\n",
      "Topic 6: sir ti honour call whose take yet great see\n",
      "Topic 7: master come sir well good go enter pray husband\n",
      "Topic 8: would know one ladi lord fool think may gentleman\n"
     ]
    }
   ],
   "source": [
    "topic_word = topic_model.topic_word_\n",
    "\n",
    "n_top_words = 10\n",
    "\n",
    "for i, topic_dist in enumerate(topic_word):\n",
    "    topic_words = np.array(unique_words)[np.argsort(topic_dist)][:-n_top_words:-1]\n",
    "    print('Topic {}: {}'.format(i, ' '.join(topic_words)))"
   ]
  },
  {
   "cell_type": "code",
   "execution_count": 36,
   "metadata": {
    "collapsed": false
   },
   "outputs": [
    {
     "data": {
      "image/png": "[encoded data removed]",
      "text/plain": [
       "<matplotlib.figure.Figure at 0x1590c71d0>"
      ]
     },
     "metadata": {},
     "output_type": "display_data"
    }
   ],
   "source": [
    "f, ax= plt.subplots(5, 1, figsize=(8, 6), sharex=True)\n",
    "for i, k in enumerate([0, 1, 4, 6, 8]):\n",
    "    ax[i].stem(topic_word[k,:], linefmt='b-',\n",
    "               markerfmt='bo', basefmt='w-')\n",
    "    ax[i].set_xlim(-50,4350)\n",
    "    ax[i].set_ylim(0, 0.04)\n",
    "    ax[i].set_ylabel(\"Prob\")\n",
    "    ax[i].set_title(\"topic {}\".format(k))\n",
    "\n",
    "ax[4].set_xlabel(\"word\")\n",
    "\n",
    "plt.tight_layout()\n",
    "plt.show()"
   ]
  },
  {
   "cell_type": "code",
   "execution_count": 25,
   "metadata": {
    "collapsed": false,
    "scrolled": false
   },
   "outputs": [
    {
     "data": {
      "image/png": "[encoded data removed]",
      "text/plain": [
       "<matplotlib.figure.Figure at 0x112f492d0>"
      ]
     },
     "metadata": {},
     "output_type": "display_data"
    }
   ],
   "source": [
    "%matplotlib inline\n",
    "\n",
    "doc_topic = topic_model.doc_topic_\n",
    "\n",
    "f, ax= plt.subplots(13, 1, figsize=(8, 16), sharex=True)\n",
    "for i, k in enumerate([1, 3, 5, 7, 9, 11, 13, 15, 17, 19, 21, 23, 25]):\n",
    "    ax[i].stem(doc_topic[i,:], linefmt='b-',\n",
    "               markerfmt='bo', basefmt='w-')\n",
    "    ax[i].set_xlim(-1, 9)\n",
    "    ax[i].set_ylim(0, 0.4)\n",
    "    ax[i].set_ylabel(\"Prob\")\n",
    "    ax[i].set_title(titles[i])\n",
    "\n",
    "ax[4].set_xlabel(\"Topic\")\n",
    "\n",
    "plt.tight_layout()\n",
    "plt.show()"
   ]
  },
  {
   "cell_type": "code",
   "execution_count": 26,
   "metadata": {
    "collapsed": false
   },
   "outputs": [],
   "source": [
    "np.savetxt(\"../plotly_sandbox/topics.csv\", topic_model.doc_topic_, delimiter=\",\")"
   ]
  },
  {
   "cell_type": "markdown",
   "metadata": {},
   "source": [
    "The distribution of topics over each document is used as input of the k-means. "
   ]
  },
  {
   "cell_type": "markdown",
   "metadata": {},
   "source": [
    "### K-Means"
   ]
  },
  {
   "cell_type": "markdown",
   "metadata": {},
   "source": [
    "K means is an unsupervised clustering technique that creates a partition of the data such that every observation is assigned to the cluster with nearest mean. This guarantees minimal variability within observations in the same cluster and maximum variability between groups.\n",
    "\n",
    "The results of this last step is a group almost entirely made of comedies, except for 'Romeo and Juliet' and a group that is almost evanly split between comedies and tragedies. So it looks like nlp doesn't capture the differences between comedies and tragedies.\n",
    "However, experts do agree that Shakespeare's style has changed over the years."
   ]
  },
  {
   "cell_type": "markdown",
   "metadata": {},
   "source": [
    "#### KM on 9 topics"
   ]
  },
  {
   "cell_type": "code",
   "execution_count": 27,
   "metadata": {
    "collapsed": false
   },
   "outputs": [
    {
     "data": {
      "text/plain": [
       "KMeans(copy_x=True, init='random', max_iter=300, n_clusters=2, n_init=10,\n",
       "    n_jobs=1, precompute_distances='auto', random_state=15, tol=0.0001,\n",
       "    verbose=0)"
      ]
     },
     "execution_count": 27,
     "metadata": {},
     "output_type": "execute_result"
    }
   ],
   "source": [
    "km_topics = KMeans(n_clusters = 2, init = 'random', random_state = 15)\n",
    "km_topics.fit(doc_topic)"
   ]
  },
  {
   "cell_type": "code",
   "execution_count": 28,
   "metadata": {
    "collapsed": false
   },
   "outputs": [
    {
     "data": {
      "text/plain": [
       "array([0, 0, 1, 0, 0, 0, 0, 0, 0, 1, 1, 0, 0, 1, 0, 0, 0, 0, 1, 1, 1, 1, 0,\n",
       "       1, 1, 1, 0], dtype=int32)"
      ]
     },
     "execution_count": 28,
     "metadata": {},
     "output_type": "execute_result"
    }
   ],
   "source": [
    "km_topics.labels_"
   ]
  },
  {
   "cell_type": "code",
   "execution_count": 29,
   "metadata": {
    "collapsed": false
   },
   "outputs": [
    {
     "data": {
      "text/plain": [
       "array([['titusandronicus', 'tragedy', '1591'],\n",
       "       ['allswellthatendswell', 'comedy', '1604'],\n",
       "       ['macbeth', 'tragedy', '1606'],\n",
       "       ['hamlet', 'tragedy', '1599'],\n",
       "       ['antonyandcleopatra', 'tragedy', '1606'],\n",
       "       ['kinglear', 'tragedy', '1605'],\n",
       "       ['juliuscaesar', 'tragedy', '1599'],\n",
       "       ['tempest', 'comedy', '1610'],\n",
       "       ['winterstale', 'comedy', '1609'],\n",
       "       ['timonofathens', 'tragedy', '1605'],\n",
       "       ['coriolanus', 'tragedy', '1607'],\n",
       "       ['troilusandcressida', 'comedy', '1600'],\n",
       "       ['measureforemeasure', 'comedy', '1603'],\n",
       "       ['cymbeline', 'comedy', '1610'],\n",
       "       ['othello', 'tragedy', '1604'],\n",
       "       ['periclesprinceoftyre', 'comedy', '1607']], \n",
       "      dtype='|S21')"
      ]
     },
     "execution_count": 29,
     "metadata": {},
     "output_type": "execute_result"
    }
   ],
   "source": [
    "lookup[ km_topics.labels_ == 0]"
   ]
  },
  {
   "cell_type": "code",
   "execution_count": 30,
   "metadata": {
    "collapsed": false
   },
   "outputs": [
    {
     "data": {
      "text/plain": [
       "array([['twelfthnight', 'comedy', '1601'],\n",
       "       ['merchantofvenice', 'comedy', '1596'],\n",
       "       ['loveslabourslost', 'comedy', '1594'],\n",
       "       ['muchadoaboutnothing', 'comedy', '1598'],\n",
       "       ['tamingoftheshrew', 'comedy', '1590'],\n",
       "       ['asyoulikeit', 'comedy', '1599'],\n",
       "       ['merrywivesofwindsor', 'comedy', '1600'],\n",
       "       ['midsummersnightsdream', 'comedy', '1595'],\n",
       "       ['romeoandjuliet', 'tragedy', '1592'],\n",
       "       ['comedyoferrors', 'comedy', '1594'],\n",
       "       ['twogentlemenofverona', 'comedy', '1589']], \n",
       "      dtype='|S21')"
      ]
     },
     "execution_count": 30,
     "metadata": {},
     "output_type": "execute_result"
    }
   ],
   "source": [
    "lookup[km_topics.labels_ == 1]"
   ]
  },
  {
   "cell_type": "code",
   "execution_count": 31,
   "metadata": {
    "collapsed": false
   },
   "outputs": [],
   "source": [
    "lookup_df = pd.DataFrame({'title':titles,\n",
    "                          'label':labels,\n",
    "                          'year':year,\n",
    "                          'cluster':km_topics.labels_\n",
    "                         })\n",
    "groups = set(km_topics.labels_)"
   ]
  },
  {
   "cell_type": "code",
   "execution_count": 32,
   "metadata": {
    "collapsed": false
   },
   "outputs": [],
   "source": [
    "lookup_df.to_csv('../plotly_sandbox/lookup_titles.csv')"
   ]
  },
  {
   "cell_type": "markdown",
   "metadata": {},
   "source": [
    "However, experts do agree that Shakespeare's style has changed over the years.\n",
    "\n",
    "More specifically, they talk about an elizabethan Shakespeare, more influenced by the classics, and a more mature Shakespeare, writing under the reign of King James. So looking at the groups and the year the plays were written, group 1 includes only plays that were written before the death of elizabeth the first in 1603 and group 2 includes all the plays written for James the first (except for one)"
   ]
  },
  {
   "cell_type": "code",
   "execution_count": 33,
   "metadata": {
    "collapsed": false
   },
   "outputs": [
    {
     "data": {
      "text/plain": [
       "<seaborn.axisgrid.FacetGrid at 0x1071b5410>"
      ]
     },
     "execution_count": 33,
     "metadata": {},
     "output_type": "execute_result"
    },
    {
     "data": {
      "image/png": "[encoded data removed]",
      "text/plain": [
       "<matplotlib.figure.Figure at 0x10a7244d0>"
      ]
     },
     "metadata": {},
     "output_type": "display_data"
    }
   ],
   "source": [
    "sns.set(style=\"ticks\")\n",
    "\n",
    "g = sns.factorplot(x = 'cluster', y = 'year', data = lookup_df, kind='box')\n",
    "g.despine()\n",
    "g.set_axis_labels('Cluster', 'Year')"
   ]
  },
  {
   "cell_type": "markdown",
   "metadata": {},
   "source": [
    "### Conclusion"
   ]
  },
  {
   "cell_type": "markdown",
   "metadata": {},
   "source": [
    "It was possible to create a two way split of shakespeare's works using nlp, the groups obtained this way don't reflect so much a difference in genre but rather a change in the style of Shakespeare's writing."
   ]
  },
  {
   "cell_type": "markdown",
   "metadata": {},
   "source": [
    "## LDA with gensim"
   ]
  },
  {
   "cell_type": "code",
   "execution_count": null,
   "metadata": {
    "collapsed": false
   },
   "outputs": [],
   "source": [
    "ldamodel = models.ldamodel.LdaModel(corpus, num_topics=27, id2word=words, passes=20)"
   ]
  },
  {
   "cell_type": "code",
   "execution_count": null,
   "metadata": {
    "collapsed": false
   },
   "outputs": [],
   "source": [
    "for i in range(len(titles)):\n",
    "    print titles[i], ldamodel.get_document_topics(corpus[i])"
   ]
  },
  {
   "cell_type": "code",
   "execution_count": null,
   "metadata": {
    "collapsed": false
   },
   "outputs": [],
   "source": [
    "document_topics = []\n",
    "for i in range(len(corpus)):\n",
    "    document_topics.append(\n",
    "        [x[1] for x in ldamodel.get_document_topics(corpus[i], minimum_probability=0)]\n",
    "        )"
   ]
  },
  {
   "cell_type": "code",
   "execution_count": null,
   "metadata": {
    "collapsed": false
   },
   "outputs": [],
   "source": [
    "km_topics_gensim_input = KMeans(n_clusters = 2, init = 'random', random_state=10)\n",
    "km_topics_gensim_input.fit(np.array(document_topics))"
   ]
  },
  {
   "cell_type": "code",
   "execution_count": null,
   "metadata": {
    "collapsed": false
   },
   "outputs": [],
   "source": [
    "km_topics_gensim_input.labels_"
   ]
  },
  {
   "cell_type": "code",
   "execution_count": null,
   "metadata": {
    "collapsed": false
   },
   "outputs": [],
   "source": [
    "lookup[km_topics_gensim_input.labels_ == 1]"
   ]
  },
  {
   "cell_type": "code",
   "execution_count": null,
   "metadata": {
    "collapsed": false
   },
   "outputs": [],
   "source": [
    "lookup[km_topics_gensim_input.labels_ == 0]"
   ]
  },
  {
   "cell_type": "code",
   "execution_count": null,
   "metadata": {
    "collapsed": false
   },
   "outputs": [],
   "source": [
    "lookup_df = pd.DataFrame({'title':titles,\n",
    "                          'label':labels,\n",
    "                          'year':year,\n",
    "                          'cluster':km_topics_gensim_input.labels_\n",
    "                         })\n",
    "groups = set(km_topics.labels_)"
   ]
  },
  {
   "cell_type": "code",
   "execution_count": null,
   "metadata": {
    "collapsed": false
   },
   "outputs": [],
   "source": [
    "sns.set(style=\"ticks\")\n",
    "\n",
    "g = sns.factorplot(x = 'cluster', y = 'year', data = lookup_df, kind='box')\n",
    "g.despine()\n",
    "g.set_axis_labels('Cluster', 'Year')"
   ]
  },
  {
   "cell_type": "code",
   "execution_count": null,
   "metadata": {
    "collapsed": true
   },
   "outputs": [],
   "source": []
  }
 ],
 "metadata": {
  "kernelspec": {
   "display_name": "Python 2",
   "language": "python",
   "name": "python2"
  },
  "language_info": {
   "codemirror_mode": {
    "name": "ipython",
    "version": 2
   },
   "file_extension": ".py",
   "mimetype": "text/x-python",
   "name": "python",
   "nbconvert_exporter": "python",
   "pygments_lexer": "ipython2",
   "version": "2.7.10"
  }
 },
 "nbformat": 4,
 "nbformat_minor": 0
}
