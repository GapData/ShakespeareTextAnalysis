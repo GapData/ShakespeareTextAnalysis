{
 "cells": [
  {
   "cell_type": "markdown",
   "metadata": {},
   "source": [
    "### Sentiment analysis by scene"
   ]
  },
  {
   "cell_type": "code",
   "execution_count": 92,
   "metadata": {
    "collapsed": true
   },
   "outputs": [],
   "source": [
    "import re\n",
    "import nltk\n",
    "from nltk import word_tokenize\n",
    "from nltk.tokenize import RegexpTokenizer"
   ]
  },
  {
   "cell_type": "code",
   "execution_count": 64,
   "metadata": {
    "collapsed": true
   },
   "outputs": [],
   "source": [
    "f = open('plays/hamlet.txt', 'r')\n",
    "raw = f.read()\n",
    "text = ' '.join([re.sub('\\t', ' ', l) for l in raw.splitlines() if l != ''])"
   ]
  },
  {
   "cell_type": "code",
   "execution_count": 94,
   "metadata": {
    "collapsed": false
   },
   "outputs": [],
   "source": [
    "tokenizer = RegexpTokenizer(r'\\w+')"
   ]
  },
  {
   "cell_type": "code",
   "execution_count": 133,
   "metadata": {
    "collapsed": false
   },
   "outputs": [],
   "source": [
    "scenes = {}\n",
    "i = 1\n",
    "for scene in re.split('SCENE [IVXCLM]+ ', text)[1:]:\n",
    "    tokens = tokenizer.tokenize(scene)\n",
    "    names = [w.lower() for w in set(tokens) if w.isupper()]\n",
    "    tokens = [w.lower() for w in tokens if w.lower() not in names]\n",
    "    scenes['scene_{}'.format(i)] = [w for w in tokens if w not in nltk.corpus.stopwords.words('english')]\n",
    "    i += 1"
   ]
  },
  {
   "cell_type": "code",
   "execution_count": 135,
   "metadata": {
    "collapsed": false
   },
   "outputs": [],
   "source": [
    "import pandas as pd"
   ]
  },
  {
   "cell_type": "code",
   "execution_count": 142,
   "metadata": {
    "collapsed": false
   },
   "outputs": [
    {
     "name": "stderr",
     "output_type": "stream",
     "text": [
      "/Users/serena/.virtualenvs/shakespeare_analysis/lib/python2.7/site-packages/IPython/core/interactiveshell.py:2723: DtypeWarning: Columns (63,108,109,110,176) have mixed types. Specify dtype option on import or set low_memory=False.\n",
      "  interactivity=interactivity, compiler=compiler, result=result)\n"
     ]
    }
   ],
   "source": [
    "lexicon = pd.read_table('inqtabs.txt')"
   ]
  },
  {
   "cell_type": "code",
   "execution_count": 170,
   "metadata": {
    "collapsed": false
   },
   "outputs": [
    {
     "data": {
      "text/plain": [
       "Index([u'Entry', u'Source', u'Positiv', u'Negativ', u'Pstv', u'Affil', u'Ngtv',\n",
       "       u'Hostile', u'Strong', u'Power',\n",
       "       ...\n",
       "       u'Anomie', u'NegAff', u'PosAff', u'SureLw', u'If', u'NotLw', u'TimeSpc',\n",
       "       u'FormLw', u'Othtags', u'Defined'],\n",
       "      dtype='object', length=186)"
      ]
     },
     "execution_count": 170,
     "metadata": {},
     "output_type": "execute_result"
    }
   ],
   "source": [
    "lexicon.columns"
   ]
  },
  {
   "cell_type": "code",
   "execution_count": 166,
   "metadata": {
    "collapsed": false
   },
   "outputs": [],
   "source": [
    "lexicon_m = pd.melt(lexicon, id_vars='Entry')"
   ]
  },
  {
   "cell_type": "code",
   "execution_count": 171,
   "metadata": {
    "collapsed": false
   },
   "outputs": [
    {
     "ename": "SyntaxError",
     "evalue": "invalid syntax (<ipython-input-171-037bbf0968f3>, line 1)",
     "output_type": "error",
     "traceback": [
      "\u001b[0;36m  File \u001b[0;32m\"<ipython-input-171-037bbf0968f3>\"\u001b[0;36m, line \u001b[0;32m1\u001b[0m\n\u001b[0;31m    lexicon_m[(lexicon_m.variable != ['Source','Defined', 'Othtags') & (lexicon_m.variable != 'Defined') & (lexicon_m.value.notnull())]\u001b[0m\n\u001b[0m                                                                   ^\u001b[0m\n\u001b[0;31mSyntaxError\u001b[0m\u001b[0;31m:\u001b[0m invalid syntax\n"
     ]
    }
   ],
   "source": [
    "lexicon_m[(lexicon_m.variable != ['Source','Defined', 'Othtags']) & (lexicon_m.variable != 'Defined') & (lexicon_m.value.notnull())]"
   ]
  },
  {
   "cell_type": "code",
   "execution_count": null,
   "metadata": {
    "collapsed": true
   },
   "outputs": [],
   "source": []
  }
 ],
 "metadata": {
  "kernelspec": {
   "display_name": "Python 2",
   "language": "python",
   "name": "python2"
  },
  "language_info": {
   "codemirror_mode": {
    "name": "ipython",
    "version": 2
   },
   "file_extension": ".py",
   "mimetype": "text/x-python",
   "name": "python",
   "nbconvert_exporter": "python",
   "pygments_lexer": "ipython2",
   "version": "2.7.10"
  }
 },
 "nbformat": 4,
 "nbformat_minor": 0
}
